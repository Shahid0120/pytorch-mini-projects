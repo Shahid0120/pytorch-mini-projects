{
  "nbformat": 4,
  "nbformat_minor": 0,
  "metadata": {
    "colab": {
      "provenance": [],
      "authorship_tag": "ABX9TyN4ojNhFrB6reItgT9bO3zK",
      "include_colab_link": true
    },
    "kernelspec": {
      "name": "python3",
      "display_name": "Python 3"
    },
    "language_info": {
      "name": "python"
    },
    "widgets": {
      "application/vnd.jupyter.widget-state+json": {
        "728607ac26724eeb9ead7672282887e7": {
          "model_module": "@jupyter-widgets/controls",
          "model_name": "HBoxModel",
          "model_module_version": "1.5.0",
          "state": {
            "_dom_classes": [],
            "_model_module": "@jupyter-widgets/controls",
            "_model_module_version": "1.5.0",
            "_model_name": "HBoxModel",
            "_view_count": null,
            "_view_module": "@jupyter-widgets/controls",
            "_view_module_version": "1.5.0",
            "_view_name": "HBoxView",
            "box_style": "",
            "children": [
              "IPY_MODEL_55490a21966a411a9bc12e538612a697",
              "IPY_MODEL_42028a958837426c89c7c8735b73d4a0",
              "IPY_MODEL_73bdb998740145bf8b6ffd3380bafbc7"
            ],
            "layout": "IPY_MODEL_0b4c5b6ea8994619b2773e82e2f02020"
          }
        },
        "55490a21966a411a9bc12e538612a697": {
          "model_module": "@jupyter-widgets/controls",
          "model_name": "HTMLModel",
          "model_module_version": "1.5.0",
          "state": {
            "_dom_classes": [],
            "_model_module": "@jupyter-widgets/controls",
            "_model_module_version": "1.5.0",
            "_model_name": "HTMLModel",
            "_view_count": null,
            "_view_module": "@jupyter-widgets/controls",
            "_view_module_version": "1.5.0",
            "_view_name": "HTMLView",
            "description": "",
            "description_tooltip": null,
            "layout": "IPY_MODEL_2549eb593c0545cd92be8bc6004cf8f5",
            "placeholder": "​",
            "style": "IPY_MODEL_6d340ed9aeda4fc7bc698c2bff34c39b",
            "value": "100%"
          }
        },
        "42028a958837426c89c7c8735b73d4a0": {
          "model_module": "@jupyter-widgets/controls",
          "model_name": "FloatProgressModel",
          "model_module_version": "1.5.0",
          "state": {
            "_dom_classes": [],
            "_model_module": "@jupyter-widgets/controls",
            "_model_module_version": "1.5.0",
            "_model_name": "FloatProgressModel",
            "_view_count": null,
            "_view_module": "@jupyter-widgets/controls",
            "_view_module_version": "1.5.0",
            "_view_name": "ProgressView",
            "bar_style": "success",
            "description": "",
            "description_tooltip": null,
            "layout": "IPY_MODEL_472ef3e567db482b96424f7e8821af94",
            "max": 10,
            "min": 0,
            "orientation": "horizontal",
            "style": "IPY_MODEL_5835de0b62a44b66b6616feff1178e20",
            "value": 10
          }
        },
        "73bdb998740145bf8b6ffd3380bafbc7": {
          "model_module": "@jupyter-widgets/controls",
          "model_name": "HTMLModel",
          "model_module_version": "1.5.0",
          "state": {
            "_dom_classes": [],
            "_model_module": "@jupyter-widgets/controls",
            "_model_module_version": "1.5.0",
            "_model_name": "HTMLModel",
            "_view_count": null,
            "_view_module": "@jupyter-widgets/controls",
            "_view_module_version": "1.5.0",
            "_view_name": "HTMLView",
            "description": "",
            "description_tooltip": null,
            "layout": "IPY_MODEL_6881cb702d204ceb9cf24ac1354c12e9",
            "placeholder": "​",
            "style": "IPY_MODEL_8bc5071a1933450687e4a5fba6080713",
            "value": " 10/10 [01:49&lt;00:00, 10.98s/it]"
          }
        },
        "0b4c5b6ea8994619b2773e82e2f02020": {
          "model_module": "@jupyter-widgets/base",
          "model_name": "LayoutModel",
          "model_module_version": "1.2.0",
          "state": {
            "_model_module": "@jupyter-widgets/base",
            "_model_module_version": "1.2.0",
            "_model_name": "LayoutModel",
            "_view_count": null,
            "_view_module": "@jupyter-widgets/base",
            "_view_module_version": "1.2.0",
            "_view_name": "LayoutView",
            "align_content": null,
            "align_items": null,
            "align_self": null,
            "border": null,
            "bottom": null,
            "display": null,
            "flex": null,
            "flex_flow": null,
            "grid_area": null,
            "grid_auto_columns": null,
            "grid_auto_flow": null,
            "grid_auto_rows": null,
            "grid_column": null,
            "grid_gap": null,
            "grid_row": null,
            "grid_template_areas": null,
            "grid_template_columns": null,
            "grid_template_rows": null,
            "height": null,
            "justify_content": null,
            "justify_items": null,
            "left": null,
            "margin": null,
            "max_height": null,
            "max_width": null,
            "min_height": null,
            "min_width": null,
            "object_fit": null,
            "object_position": null,
            "order": null,
            "overflow": null,
            "overflow_x": null,
            "overflow_y": null,
            "padding": null,
            "right": null,
            "top": null,
            "visibility": null,
            "width": null
          }
        },
        "2549eb593c0545cd92be8bc6004cf8f5": {
          "model_module": "@jupyter-widgets/base",
          "model_name": "LayoutModel",
          "model_module_version": "1.2.0",
          "state": {
            "_model_module": "@jupyter-widgets/base",
            "_model_module_version": "1.2.0",
            "_model_name": "LayoutModel",
            "_view_count": null,
            "_view_module": "@jupyter-widgets/base",
            "_view_module_version": "1.2.0",
            "_view_name": "LayoutView",
            "align_content": null,
            "align_items": null,
            "align_self": null,
            "border": null,
            "bottom": null,
            "display": null,
            "flex": null,
            "flex_flow": null,
            "grid_area": null,
            "grid_auto_columns": null,
            "grid_auto_flow": null,
            "grid_auto_rows": null,
            "grid_column": null,
            "grid_gap": null,
            "grid_row": null,
            "grid_template_areas": null,
            "grid_template_columns": null,
            "grid_template_rows": null,
            "height": null,
            "justify_content": null,
            "justify_items": null,
            "left": null,
            "margin": null,
            "max_height": null,
            "max_width": null,
            "min_height": null,
            "min_width": null,
            "object_fit": null,
            "object_position": null,
            "order": null,
            "overflow": null,
            "overflow_x": null,
            "overflow_y": null,
            "padding": null,
            "right": null,
            "top": null,
            "visibility": null,
            "width": null
          }
        },
        "6d340ed9aeda4fc7bc698c2bff34c39b": {
          "model_module": "@jupyter-widgets/controls",
          "model_name": "DescriptionStyleModel",
          "model_module_version": "1.5.0",
          "state": {
            "_model_module": "@jupyter-widgets/controls",
            "_model_module_version": "1.5.0",
            "_model_name": "DescriptionStyleModel",
            "_view_count": null,
            "_view_module": "@jupyter-widgets/base",
            "_view_module_version": "1.2.0",
            "_view_name": "StyleView",
            "description_width": ""
          }
        },
        "472ef3e567db482b96424f7e8821af94": {
          "model_module": "@jupyter-widgets/base",
          "model_name": "LayoutModel",
          "model_module_version": "1.2.0",
          "state": {
            "_model_module": "@jupyter-widgets/base",
            "_model_module_version": "1.2.0",
            "_model_name": "LayoutModel",
            "_view_count": null,
            "_view_module": "@jupyter-widgets/base",
            "_view_module_version": "1.2.0",
            "_view_name": "LayoutView",
            "align_content": null,
            "align_items": null,
            "align_self": null,
            "border": null,
            "bottom": null,
            "display": null,
            "flex": null,
            "flex_flow": null,
            "grid_area": null,
            "grid_auto_columns": null,
            "grid_auto_flow": null,
            "grid_auto_rows": null,
            "grid_column": null,
            "grid_gap": null,
            "grid_row": null,
            "grid_template_areas": null,
            "grid_template_columns": null,
            "grid_template_rows": null,
            "height": null,
            "justify_content": null,
            "justify_items": null,
            "left": null,
            "margin": null,
            "max_height": null,
            "max_width": null,
            "min_height": null,
            "min_width": null,
            "object_fit": null,
            "object_position": null,
            "order": null,
            "overflow": null,
            "overflow_x": null,
            "overflow_y": null,
            "padding": null,
            "right": null,
            "top": null,
            "visibility": null,
            "width": null
          }
        },
        "5835de0b62a44b66b6616feff1178e20": {
          "model_module": "@jupyter-widgets/controls",
          "model_name": "ProgressStyleModel",
          "model_module_version": "1.5.0",
          "state": {
            "_model_module": "@jupyter-widgets/controls",
            "_model_module_version": "1.5.0",
            "_model_name": "ProgressStyleModel",
            "_view_count": null,
            "_view_module": "@jupyter-widgets/base",
            "_view_module_version": "1.2.0",
            "_view_name": "StyleView",
            "bar_color": null,
            "description_width": ""
          }
        },
        "6881cb702d204ceb9cf24ac1354c12e9": {
          "model_module": "@jupyter-widgets/base",
          "model_name": "LayoutModel",
          "model_module_version": "1.2.0",
          "state": {
            "_model_module": "@jupyter-widgets/base",
            "_model_module_version": "1.2.0",
            "_model_name": "LayoutModel",
            "_view_count": null,
            "_view_module": "@jupyter-widgets/base",
            "_view_module_version": "1.2.0",
            "_view_name": "LayoutView",
            "align_content": null,
            "align_items": null,
            "align_self": null,
            "border": null,
            "bottom": null,
            "display": null,
            "flex": null,
            "flex_flow": null,
            "grid_area": null,
            "grid_auto_columns": null,
            "grid_auto_flow": null,
            "grid_auto_rows": null,
            "grid_column": null,
            "grid_gap": null,
            "grid_row": null,
            "grid_template_areas": null,
            "grid_template_columns": null,
            "grid_template_rows": null,
            "height": null,
            "justify_content": null,
            "justify_items": null,
            "left": null,
            "margin": null,
            "max_height": null,
            "max_width": null,
            "min_height": null,
            "min_width": null,
            "object_fit": null,
            "object_position": null,
            "order": null,
            "overflow": null,
            "overflow_x": null,
            "overflow_y": null,
            "padding": null,
            "right": null,
            "top": null,
            "visibility": null,
            "width": null
          }
        },
        "8bc5071a1933450687e4a5fba6080713": {
          "model_module": "@jupyter-widgets/controls",
          "model_name": "DescriptionStyleModel",
          "model_module_version": "1.5.0",
          "state": {
            "_model_module": "@jupyter-widgets/controls",
            "_model_module_version": "1.5.0",
            "_model_name": "DescriptionStyleModel",
            "_view_count": null,
            "_view_module": "@jupyter-widgets/base",
            "_view_module_version": "1.2.0",
            "_view_name": "StyleView",
            "description_width": ""
          }
        },
        "d4567a3e31834a4ab131ecc7e3a18665": {
          "model_module": "@jupyter-widgets/controls",
          "model_name": "HBoxModel",
          "model_module_version": "1.5.0",
          "state": {
            "_dom_classes": [],
            "_model_module": "@jupyter-widgets/controls",
            "_model_module_version": "1.5.0",
            "_model_name": "HBoxModel",
            "_view_count": null,
            "_view_module": "@jupyter-widgets/controls",
            "_view_module_version": "1.5.0",
            "_view_name": "HBoxView",
            "box_style": "",
            "children": [
              "IPY_MODEL_5ec0832ea688400da0de8736187a7a50",
              "IPY_MODEL_093468aa9bf74459b253c334af4ce987",
              "IPY_MODEL_f165ac77563e4c3283327994f4bd9944"
            ],
            "layout": "IPY_MODEL_2cac311230e842b8ba91f56dcb9f596a"
          }
        },
        "5ec0832ea688400da0de8736187a7a50": {
          "model_module": "@jupyter-widgets/controls",
          "model_name": "HTMLModel",
          "model_module_version": "1.5.0",
          "state": {
            "_dom_classes": [],
            "_model_module": "@jupyter-widgets/controls",
            "_model_module_version": "1.5.0",
            "_model_name": "HTMLModel",
            "_view_count": null,
            "_view_module": "@jupyter-widgets/controls",
            "_view_module_version": "1.5.0",
            "_view_name": "HTMLView",
            "description": "",
            "description_tooltip": null,
            "layout": "IPY_MODEL_769ec029074741f58a4d875eb92fb9bb",
            "placeholder": "​",
            "style": "IPY_MODEL_28ada17ff7294ecf8ba6f542db533918",
            "value": "100%"
          }
        },
        "093468aa9bf74459b253c334af4ce987": {
          "model_module": "@jupyter-widgets/controls",
          "model_name": "FloatProgressModel",
          "model_module_version": "1.5.0",
          "state": {
            "_dom_classes": [],
            "_model_module": "@jupyter-widgets/controls",
            "_model_module_version": "1.5.0",
            "_model_name": "FloatProgressModel",
            "_view_count": null,
            "_view_module": "@jupyter-widgets/controls",
            "_view_module_version": "1.5.0",
            "_view_name": "ProgressView",
            "bar_style": "success",
            "description": "",
            "description_tooltip": null,
            "layout": "IPY_MODEL_819de6b4a33943528b17071cfcf06c70",
            "max": 313,
            "min": 0,
            "orientation": "horizontal",
            "style": "IPY_MODEL_0c3f0c8965ab4f8aa84f824e08d37d42",
            "value": 313
          }
        },
        "f165ac77563e4c3283327994f4bd9944": {
          "model_module": "@jupyter-widgets/controls",
          "model_name": "HTMLModel",
          "model_module_version": "1.5.0",
          "state": {
            "_dom_classes": [],
            "_model_module": "@jupyter-widgets/controls",
            "_model_module_version": "1.5.0",
            "_model_name": "HTMLModel",
            "_view_count": null,
            "_view_module": "@jupyter-widgets/controls",
            "_view_module_version": "1.5.0",
            "_view_name": "HTMLView",
            "description": "",
            "description_tooltip": null,
            "layout": "IPY_MODEL_89e9bde30b1c4997a5618096550b6739",
            "placeholder": "​",
            "style": "IPY_MODEL_d9501402267241dfbdb98a5a7a151243",
            "value": " 313/313 [00:01&lt;00:00, 154.00it/s]"
          }
        },
        "2cac311230e842b8ba91f56dcb9f596a": {
          "model_module": "@jupyter-widgets/base",
          "model_name": "LayoutModel",
          "model_module_version": "1.2.0",
          "state": {
            "_model_module": "@jupyter-widgets/base",
            "_model_module_version": "1.2.0",
            "_model_name": "LayoutModel",
            "_view_count": null,
            "_view_module": "@jupyter-widgets/base",
            "_view_module_version": "1.2.0",
            "_view_name": "LayoutView",
            "align_content": null,
            "align_items": null,
            "align_self": null,
            "border": null,
            "bottom": null,
            "display": null,
            "flex": null,
            "flex_flow": null,
            "grid_area": null,
            "grid_auto_columns": null,
            "grid_auto_flow": null,
            "grid_auto_rows": null,
            "grid_column": null,
            "grid_gap": null,
            "grid_row": null,
            "grid_template_areas": null,
            "grid_template_columns": null,
            "grid_template_rows": null,
            "height": null,
            "justify_content": null,
            "justify_items": null,
            "left": null,
            "margin": null,
            "max_height": null,
            "max_width": null,
            "min_height": null,
            "min_width": null,
            "object_fit": null,
            "object_position": null,
            "order": null,
            "overflow": null,
            "overflow_x": null,
            "overflow_y": null,
            "padding": null,
            "right": null,
            "top": null,
            "visibility": null,
            "width": null
          }
        },
        "769ec029074741f58a4d875eb92fb9bb": {
          "model_module": "@jupyter-widgets/base",
          "model_name": "LayoutModel",
          "model_module_version": "1.2.0",
          "state": {
            "_model_module": "@jupyter-widgets/base",
            "_model_module_version": "1.2.0",
            "_model_name": "LayoutModel",
            "_view_count": null,
            "_view_module": "@jupyter-widgets/base",
            "_view_module_version": "1.2.0",
            "_view_name": "LayoutView",
            "align_content": null,
            "align_items": null,
            "align_self": null,
            "border": null,
            "bottom": null,
            "display": null,
            "flex": null,
            "flex_flow": null,
            "grid_area": null,
            "grid_auto_columns": null,
            "grid_auto_flow": null,
            "grid_auto_rows": null,
            "grid_column": null,
            "grid_gap": null,
            "grid_row": null,
            "grid_template_areas": null,
            "grid_template_columns": null,
            "grid_template_rows": null,
            "height": null,
            "justify_content": null,
            "justify_items": null,
            "left": null,
            "margin": null,
            "max_height": null,
            "max_width": null,
            "min_height": null,
            "min_width": null,
            "object_fit": null,
            "object_position": null,
            "order": null,
            "overflow": null,
            "overflow_x": null,
            "overflow_y": null,
            "padding": null,
            "right": null,
            "top": null,
            "visibility": null,
            "width": null
          }
        },
        "28ada17ff7294ecf8ba6f542db533918": {
          "model_module": "@jupyter-widgets/controls",
          "model_name": "DescriptionStyleModel",
          "model_module_version": "1.5.0",
          "state": {
            "_model_module": "@jupyter-widgets/controls",
            "_model_module_version": "1.5.0",
            "_model_name": "DescriptionStyleModel",
            "_view_count": null,
            "_view_module": "@jupyter-widgets/base",
            "_view_module_version": "1.2.0",
            "_view_name": "StyleView",
            "description_width": ""
          }
        },
        "819de6b4a33943528b17071cfcf06c70": {
          "model_module": "@jupyter-widgets/base",
          "model_name": "LayoutModel",
          "model_module_version": "1.2.0",
          "state": {
            "_model_module": "@jupyter-widgets/base",
            "_model_module_version": "1.2.0",
            "_model_name": "LayoutModel",
            "_view_count": null,
            "_view_module": "@jupyter-widgets/base",
            "_view_module_version": "1.2.0",
            "_view_name": "LayoutView",
            "align_content": null,
            "align_items": null,
            "align_self": null,
            "border": null,
            "bottom": null,
            "display": null,
            "flex": null,
            "flex_flow": null,
            "grid_area": null,
            "grid_auto_columns": null,
            "grid_auto_flow": null,
            "grid_auto_rows": null,
            "grid_column": null,
            "grid_gap": null,
            "grid_row": null,
            "grid_template_areas": null,
            "grid_template_columns": null,
            "grid_template_rows": null,
            "height": null,
            "justify_content": null,
            "justify_items": null,
            "left": null,
            "margin": null,
            "max_height": null,
            "max_width": null,
            "min_height": null,
            "min_width": null,
            "object_fit": null,
            "object_position": null,
            "order": null,
            "overflow": null,
            "overflow_x": null,
            "overflow_y": null,
            "padding": null,
            "right": null,
            "top": null,
            "visibility": null,
            "width": null
          }
        },
        "0c3f0c8965ab4f8aa84f824e08d37d42": {
          "model_module": "@jupyter-widgets/controls",
          "model_name": "ProgressStyleModel",
          "model_module_version": "1.5.0",
          "state": {
            "_model_module": "@jupyter-widgets/controls",
            "_model_module_version": "1.5.0",
            "_model_name": "ProgressStyleModel",
            "_view_count": null,
            "_view_module": "@jupyter-widgets/base",
            "_view_module_version": "1.2.0",
            "_view_name": "StyleView",
            "bar_color": null,
            "description_width": ""
          }
        },
        "89e9bde30b1c4997a5618096550b6739": {
          "model_module": "@jupyter-widgets/base",
          "model_name": "LayoutModel",
          "model_module_version": "1.2.0",
          "state": {
            "_model_module": "@jupyter-widgets/base",
            "_model_module_version": "1.2.0",
            "_model_name": "LayoutModel",
            "_view_count": null,
            "_view_module": "@jupyter-widgets/base",
            "_view_module_version": "1.2.0",
            "_view_name": "LayoutView",
            "align_content": null,
            "align_items": null,
            "align_self": null,
            "border": null,
            "bottom": null,
            "display": null,
            "flex": null,
            "flex_flow": null,
            "grid_area": null,
            "grid_auto_columns": null,
            "grid_auto_flow": null,
            "grid_auto_rows": null,
            "grid_column": null,
            "grid_gap": null,
            "grid_row": null,
            "grid_template_areas": null,
            "grid_template_columns": null,
            "grid_template_rows": null,
            "height": null,
            "justify_content": null,
            "justify_items": null,
            "left": null,
            "margin": null,
            "max_height": null,
            "max_width": null,
            "min_height": null,
            "min_width": null,
            "object_fit": null,
            "object_position": null,
            "order": null,
            "overflow": null,
            "overflow_x": null,
            "overflow_y": null,
            "padding": null,
            "right": null,
            "top": null,
            "visibility": null,
            "width": null
          }
        },
        "d9501402267241dfbdb98a5a7a151243": {
          "model_module": "@jupyter-widgets/controls",
          "model_name": "DescriptionStyleModel",
          "model_module_version": "1.5.0",
          "state": {
            "_model_module": "@jupyter-widgets/controls",
            "_model_module_version": "1.5.0",
            "_model_name": "DescriptionStyleModel",
            "_view_count": null,
            "_view_module": "@jupyter-widgets/base",
            "_view_module_version": "1.2.0",
            "_view_name": "StyleView",
            "description_width": ""
          }
        },
        "1affc58d41824101a37302c575ebb647": {
          "model_module": "@jupyter-widgets/controls",
          "model_name": "HBoxModel",
          "model_module_version": "1.5.0",
          "state": {
            "_dom_classes": [],
            "_model_module": "@jupyter-widgets/controls",
            "_model_module_version": "1.5.0",
            "_model_name": "HBoxModel",
            "_view_count": null,
            "_view_module": "@jupyter-widgets/controls",
            "_view_module_version": "1.5.0",
            "_view_name": "HBoxView",
            "box_style": "",
            "children": [
              "IPY_MODEL_74e1c1b1cd6e4d8c95f613b9d7951493",
              "IPY_MODEL_436fef2dcec449579468d3fc440c115c",
              "IPY_MODEL_16779724a0bb4695a68feff24f616adc"
            ],
            "layout": "IPY_MODEL_57b80dd404ac4aceaa533074a3938e1c"
          }
        },
        "74e1c1b1cd6e4d8c95f613b9d7951493": {
          "model_module": "@jupyter-widgets/controls",
          "model_name": "HTMLModel",
          "model_module_version": "1.5.0",
          "state": {
            "_dom_classes": [],
            "_model_module": "@jupyter-widgets/controls",
            "_model_module_version": "1.5.0",
            "_model_name": "HTMLModel",
            "_view_count": null,
            "_view_module": "@jupyter-widgets/controls",
            "_view_module_version": "1.5.0",
            "_view_name": "HTMLView",
            "description": "",
            "description_tooltip": null,
            "layout": "IPY_MODEL_06c3fd8159d64d9584e0f62b2d0fe416",
            "placeholder": "​",
            "style": "IPY_MODEL_e28c88f1650c4eff9e20b8ccc0a34bdd",
            "value": "100%"
          }
        },
        "436fef2dcec449579468d3fc440c115c": {
          "model_module": "@jupyter-widgets/controls",
          "model_name": "FloatProgressModel",
          "model_module_version": "1.5.0",
          "state": {
            "_dom_classes": [],
            "_model_module": "@jupyter-widgets/controls",
            "_model_module_version": "1.5.0",
            "_model_name": "FloatProgressModel",
            "_view_count": null,
            "_view_module": "@jupyter-widgets/controls",
            "_view_module_version": "1.5.0",
            "_view_name": "ProgressView",
            "bar_style": "success",
            "description": "",
            "description_tooltip": null,
            "layout": "IPY_MODEL_fc9b8133ce9841aea8f6c39245b15380",
            "max": 5,
            "min": 0,
            "orientation": "horizontal",
            "style": "IPY_MODEL_dea892b7fef64538b4fd3bc6a20e8bb1",
            "value": 5
          }
        },
        "16779724a0bb4695a68feff24f616adc": {
          "model_module": "@jupyter-widgets/controls",
          "model_name": "HTMLModel",
          "model_module_version": "1.5.0",
          "state": {
            "_dom_classes": [],
            "_model_module": "@jupyter-widgets/controls",
            "_model_module_version": "1.5.0",
            "_model_name": "HTMLModel",
            "_view_count": null,
            "_view_module": "@jupyter-widgets/controls",
            "_view_module_version": "1.5.0",
            "_view_name": "HTMLView",
            "description": "",
            "description_tooltip": null,
            "layout": "IPY_MODEL_ceb4cffee73047f7b3ba397d9afc95bb",
            "placeholder": "​",
            "style": "IPY_MODEL_4bddc3b4075c47d3bb3d4b3abd1b3e54",
            "value": " 5/5 [00:58&lt;00:00, 11.78s/it]"
          }
        },
        "57b80dd404ac4aceaa533074a3938e1c": {
          "model_module": "@jupyter-widgets/base",
          "model_name": "LayoutModel",
          "model_module_version": "1.2.0",
          "state": {
            "_model_module": "@jupyter-widgets/base",
            "_model_module_version": "1.2.0",
            "_model_name": "LayoutModel",
            "_view_count": null,
            "_view_module": "@jupyter-widgets/base",
            "_view_module_version": "1.2.0",
            "_view_name": "LayoutView",
            "align_content": null,
            "align_items": null,
            "align_self": null,
            "border": null,
            "bottom": null,
            "display": null,
            "flex": null,
            "flex_flow": null,
            "grid_area": null,
            "grid_auto_columns": null,
            "grid_auto_flow": null,
            "grid_auto_rows": null,
            "grid_column": null,
            "grid_gap": null,
            "grid_row": null,
            "grid_template_areas": null,
            "grid_template_columns": null,
            "grid_template_rows": null,
            "height": null,
            "justify_content": null,
            "justify_items": null,
            "left": null,
            "margin": null,
            "max_height": null,
            "max_width": null,
            "min_height": null,
            "min_width": null,
            "object_fit": null,
            "object_position": null,
            "order": null,
            "overflow": null,
            "overflow_x": null,
            "overflow_y": null,
            "padding": null,
            "right": null,
            "top": null,
            "visibility": null,
            "width": null
          }
        },
        "06c3fd8159d64d9584e0f62b2d0fe416": {
          "model_module": "@jupyter-widgets/base",
          "model_name": "LayoutModel",
          "model_module_version": "1.2.0",
          "state": {
            "_model_module": "@jupyter-widgets/base",
            "_model_module_version": "1.2.0",
            "_model_name": "LayoutModel",
            "_view_count": null,
            "_view_module": "@jupyter-widgets/base",
            "_view_module_version": "1.2.0",
            "_view_name": "LayoutView",
            "align_content": null,
            "align_items": null,
            "align_self": null,
            "border": null,
            "bottom": null,
            "display": null,
            "flex": null,
            "flex_flow": null,
            "grid_area": null,
            "grid_auto_columns": null,
            "grid_auto_flow": null,
            "grid_auto_rows": null,
            "grid_column": null,
            "grid_gap": null,
            "grid_row": null,
            "grid_template_areas": null,
            "grid_template_columns": null,
            "grid_template_rows": null,
            "height": null,
            "justify_content": null,
            "justify_items": null,
            "left": null,
            "margin": null,
            "max_height": null,
            "max_width": null,
            "min_height": null,
            "min_width": null,
            "object_fit": null,
            "object_position": null,
            "order": null,
            "overflow": null,
            "overflow_x": null,
            "overflow_y": null,
            "padding": null,
            "right": null,
            "top": null,
            "visibility": null,
            "width": null
          }
        },
        "e28c88f1650c4eff9e20b8ccc0a34bdd": {
          "model_module": "@jupyter-widgets/controls",
          "model_name": "DescriptionStyleModel",
          "model_module_version": "1.5.0",
          "state": {
            "_model_module": "@jupyter-widgets/controls",
            "_model_module_version": "1.5.0",
            "_model_name": "DescriptionStyleModel",
            "_view_count": null,
            "_view_module": "@jupyter-widgets/base",
            "_view_module_version": "1.2.0",
            "_view_name": "StyleView",
            "description_width": ""
          }
        },
        "fc9b8133ce9841aea8f6c39245b15380": {
          "model_module": "@jupyter-widgets/base",
          "model_name": "LayoutModel",
          "model_module_version": "1.2.0",
          "state": {
            "_model_module": "@jupyter-widgets/base",
            "_model_module_version": "1.2.0",
            "_model_name": "LayoutModel",
            "_view_count": null,
            "_view_module": "@jupyter-widgets/base",
            "_view_module_version": "1.2.0",
            "_view_name": "LayoutView",
            "align_content": null,
            "align_items": null,
            "align_self": null,
            "border": null,
            "bottom": null,
            "display": null,
            "flex": null,
            "flex_flow": null,
            "grid_area": null,
            "grid_auto_columns": null,
            "grid_auto_flow": null,
            "grid_auto_rows": null,
            "grid_column": null,
            "grid_gap": null,
            "grid_row": null,
            "grid_template_areas": null,
            "grid_template_columns": null,
            "grid_template_rows": null,
            "height": null,
            "justify_content": null,
            "justify_items": null,
            "left": null,
            "margin": null,
            "max_height": null,
            "max_width": null,
            "min_height": null,
            "min_width": null,
            "object_fit": null,
            "object_position": null,
            "order": null,
            "overflow": null,
            "overflow_x": null,
            "overflow_y": null,
            "padding": null,
            "right": null,
            "top": null,
            "visibility": null,
            "width": null
          }
        },
        "dea892b7fef64538b4fd3bc6a20e8bb1": {
          "model_module": "@jupyter-widgets/controls",
          "model_name": "ProgressStyleModel",
          "model_module_version": "1.5.0",
          "state": {
            "_model_module": "@jupyter-widgets/controls",
            "_model_module_version": "1.5.0",
            "_model_name": "ProgressStyleModel",
            "_view_count": null,
            "_view_module": "@jupyter-widgets/base",
            "_view_module_version": "1.2.0",
            "_view_name": "StyleView",
            "bar_color": null,
            "description_width": ""
          }
        },
        "ceb4cffee73047f7b3ba397d9afc95bb": {
          "model_module": "@jupyter-widgets/base",
          "model_name": "LayoutModel",
          "model_module_version": "1.2.0",
          "state": {
            "_model_module": "@jupyter-widgets/base",
            "_model_module_version": "1.2.0",
            "_model_name": "LayoutModel",
            "_view_count": null,
            "_view_module": "@jupyter-widgets/base",
            "_view_module_version": "1.2.0",
            "_view_name": "LayoutView",
            "align_content": null,
            "align_items": null,
            "align_self": null,
            "border": null,
            "bottom": null,
            "display": null,
            "flex": null,
            "flex_flow": null,
            "grid_area": null,
            "grid_auto_columns": null,
            "grid_auto_flow": null,
            "grid_auto_rows": null,
            "grid_column": null,
            "grid_gap": null,
            "grid_row": null,
            "grid_template_areas": null,
            "grid_template_columns": null,
            "grid_template_rows": null,
            "height": null,
            "justify_content": null,
            "justify_items": null,
            "left": null,
            "margin": null,
            "max_height": null,
            "max_width": null,
            "min_height": null,
            "min_width": null,
            "object_fit": null,
            "object_position": null,
            "order": null,
            "overflow": null,
            "overflow_x": null,
            "overflow_y": null,
            "padding": null,
            "right": null,
            "top": null,
            "visibility": null,
            "width": null
          }
        },
        "4bddc3b4075c47d3bb3d4b3abd1b3e54": {
          "model_module": "@jupyter-widgets/controls",
          "model_name": "DescriptionStyleModel",
          "model_module_version": "1.5.0",
          "state": {
            "_model_module": "@jupyter-widgets/controls",
            "_model_module_version": "1.5.0",
            "_model_name": "DescriptionStyleModel",
            "_view_count": null,
            "_view_module": "@jupyter-widgets/base",
            "_view_module_version": "1.2.0",
            "_view_name": "StyleView",
            "description_width": ""
          }
        },
        "02afa05044754ddfb4f22b4296021d07": {
          "model_module": "@jupyter-widgets/controls",
          "model_name": "HBoxModel",
          "model_module_version": "1.5.0",
          "state": {
            "_dom_classes": [],
            "_model_module": "@jupyter-widgets/controls",
            "_model_module_version": "1.5.0",
            "_model_name": "HBoxModel",
            "_view_count": null,
            "_view_module": "@jupyter-widgets/controls",
            "_view_module_version": "1.5.0",
            "_view_name": "HBoxView",
            "box_style": "",
            "children": [
              "IPY_MODEL_86738be9621543a38f8cc848f8aa9447",
              "IPY_MODEL_345296acc3ec4c1996b6bc21cf38b9ab",
              "IPY_MODEL_9095e328109942fab08d497c6281ff6f"
            ],
            "layout": "IPY_MODEL_e080ffcb0fec4912b24f005af1723f22"
          }
        },
        "86738be9621543a38f8cc848f8aa9447": {
          "model_module": "@jupyter-widgets/controls",
          "model_name": "HTMLModel",
          "model_module_version": "1.5.0",
          "state": {
            "_dom_classes": [],
            "_model_module": "@jupyter-widgets/controls",
            "_model_module_version": "1.5.0",
            "_model_name": "HTMLModel",
            "_view_count": null,
            "_view_module": "@jupyter-widgets/controls",
            "_view_module_version": "1.5.0",
            "_view_name": "HTMLView",
            "description": "",
            "description_tooltip": null,
            "layout": "IPY_MODEL_9ff6228cdf1c45b2ae88172cbbb1766e",
            "placeholder": "​",
            "style": "IPY_MODEL_db402391d1024985b35e809885c2f372",
            "value": "100%"
          }
        },
        "345296acc3ec4c1996b6bc21cf38b9ab": {
          "model_module": "@jupyter-widgets/controls",
          "model_name": "FloatProgressModel",
          "model_module_version": "1.5.0",
          "state": {
            "_dom_classes": [],
            "_model_module": "@jupyter-widgets/controls",
            "_model_module_version": "1.5.0",
            "_model_name": "FloatProgressModel",
            "_view_count": null,
            "_view_module": "@jupyter-widgets/controls",
            "_view_module_version": "1.5.0",
            "_view_name": "ProgressView",
            "bar_style": "success",
            "description": "",
            "description_tooltip": null,
            "layout": "IPY_MODEL_ff313ae4167c41d9a283edda7fc75bed",
            "max": 5,
            "min": 0,
            "orientation": "horizontal",
            "style": "IPY_MODEL_e7fd337d6e41402e9e2c099b955efe5e",
            "value": 5
          }
        },
        "9095e328109942fab08d497c6281ff6f": {
          "model_module": "@jupyter-widgets/controls",
          "model_name": "HTMLModel",
          "model_module_version": "1.5.0",
          "state": {
            "_dom_classes": [],
            "_model_module": "@jupyter-widgets/controls",
            "_model_module_version": "1.5.0",
            "_model_name": "HTMLModel",
            "_view_count": null,
            "_view_module": "@jupyter-widgets/controls",
            "_view_module_version": "1.5.0",
            "_view_name": "HTMLView",
            "description": "",
            "description_tooltip": null,
            "layout": "IPY_MODEL_54998a91aff34b73b75c7de2d31b3a22",
            "placeholder": "​",
            "style": "IPY_MODEL_3e400a71b4ca42489acc00c92ec55da8",
            "value": " 5/5 [01:02&lt;00:00, 12.43s/it]"
          }
        },
        "e080ffcb0fec4912b24f005af1723f22": {
          "model_module": "@jupyter-widgets/base",
          "model_name": "LayoutModel",
          "model_module_version": "1.2.0",
          "state": {
            "_model_module": "@jupyter-widgets/base",
            "_model_module_version": "1.2.0",
            "_model_name": "LayoutModel",
            "_view_count": null,
            "_view_module": "@jupyter-widgets/base",
            "_view_module_version": "1.2.0",
            "_view_name": "LayoutView",
            "align_content": null,
            "align_items": null,
            "align_self": null,
            "border": null,
            "bottom": null,
            "display": null,
            "flex": null,
            "flex_flow": null,
            "grid_area": null,
            "grid_auto_columns": null,
            "grid_auto_flow": null,
            "grid_auto_rows": null,
            "grid_column": null,
            "grid_gap": null,
            "grid_row": null,
            "grid_template_areas": null,
            "grid_template_columns": null,
            "grid_template_rows": null,
            "height": null,
            "justify_content": null,
            "justify_items": null,
            "left": null,
            "margin": null,
            "max_height": null,
            "max_width": null,
            "min_height": null,
            "min_width": null,
            "object_fit": null,
            "object_position": null,
            "order": null,
            "overflow": null,
            "overflow_x": null,
            "overflow_y": null,
            "padding": null,
            "right": null,
            "top": null,
            "visibility": null,
            "width": null
          }
        },
        "9ff6228cdf1c45b2ae88172cbbb1766e": {
          "model_module": "@jupyter-widgets/base",
          "model_name": "LayoutModel",
          "model_module_version": "1.2.0",
          "state": {
            "_model_module": "@jupyter-widgets/base",
            "_model_module_version": "1.2.0",
            "_model_name": "LayoutModel",
            "_view_count": null,
            "_view_module": "@jupyter-widgets/base",
            "_view_module_version": "1.2.0",
            "_view_name": "LayoutView",
            "align_content": null,
            "align_items": null,
            "align_self": null,
            "border": null,
            "bottom": null,
            "display": null,
            "flex": null,
            "flex_flow": null,
            "grid_area": null,
            "grid_auto_columns": null,
            "grid_auto_flow": null,
            "grid_auto_rows": null,
            "grid_column": null,
            "grid_gap": null,
            "grid_row": null,
            "grid_template_areas": null,
            "grid_template_columns": null,
            "grid_template_rows": null,
            "height": null,
            "justify_content": null,
            "justify_items": null,
            "left": null,
            "margin": null,
            "max_height": null,
            "max_width": null,
            "min_height": null,
            "min_width": null,
            "object_fit": null,
            "object_position": null,
            "order": null,
            "overflow": null,
            "overflow_x": null,
            "overflow_y": null,
            "padding": null,
            "right": null,
            "top": null,
            "visibility": null,
            "width": null
          }
        },
        "db402391d1024985b35e809885c2f372": {
          "model_module": "@jupyter-widgets/controls",
          "model_name": "DescriptionStyleModel",
          "model_module_version": "1.5.0",
          "state": {
            "_model_module": "@jupyter-widgets/controls",
            "_model_module_version": "1.5.0",
            "_model_name": "DescriptionStyleModel",
            "_view_count": null,
            "_view_module": "@jupyter-widgets/base",
            "_view_module_version": "1.2.0",
            "_view_name": "StyleView",
            "description_width": ""
          }
        },
        "ff313ae4167c41d9a283edda7fc75bed": {
          "model_module": "@jupyter-widgets/base",
          "model_name": "LayoutModel",
          "model_module_version": "1.2.0",
          "state": {
            "_model_module": "@jupyter-widgets/base",
            "_model_module_version": "1.2.0",
            "_model_name": "LayoutModel",
            "_view_count": null,
            "_view_module": "@jupyter-widgets/base",
            "_view_module_version": "1.2.0",
            "_view_name": "LayoutView",
            "align_content": null,
            "align_items": null,
            "align_self": null,
            "border": null,
            "bottom": null,
            "display": null,
            "flex": null,
            "flex_flow": null,
            "grid_area": null,
            "grid_auto_columns": null,
            "grid_auto_flow": null,
            "grid_auto_rows": null,
            "grid_column": null,
            "grid_gap": null,
            "grid_row": null,
            "grid_template_areas": null,
            "grid_template_columns": null,
            "grid_template_rows": null,
            "height": null,
            "justify_content": null,
            "justify_items": null,
            "left": null,
            "margin": null,
            "max_height": null,
            "max_width": null,
            "min_height": null,
            "min_width": null,
            "object_fit": null,
            "object_position": null,
            "order": null,
            "overflow": null,
            "overflow_x": null,
            "overflow_y": null,
            "padding": null,
            "right": null,
            "top": null,
            "visibility": null,
            "width": null
          }
        },
        "e7fd337d6e41402e9e2c099b955efe5e": {
          "model_module": "@jupyter-widgets/controls",
          "model_name": "ProgressStyleModel",
          "model_module_version": "1.5.0",
          "state": {
            "_model_module": "@jupyter-widgets/controls",
            "_model_module_version": "1.5.0",
            "_model_name": "ProgressStyleModel",
            "_view_count": null,
            "_view_module": "@jupyter-widgets/base",
            "_view_module_version": "1.2.0",
            "_view_name": "StyleView",
            "bar_color": null,
            "description_width": ""
          }
        },
        "54998a91aff34b73b75c7de2d31b3a22": {
          "model_module": "@jupyter-widgets/base",
          "model_name": "LayoutModel",
          "model_module_version": "1.2.0",
          "state": {
            "_model_module": "@jupyter-widgets/base",
            "_model_module_version": "1.2.0",
            "_model_name": "LayoutModel",
            "_view_count": null,
            "_view_module": "@jupyter-widgets/base",
            "_view_module_version": "1.2.0",
            "_view_name": "LayoutView",
            "align_content": null,
            "align_items": null,
            "align_self": null,
            "border": null,
            "bottom": null,
            "display": null,
            "flex": null,
            "flex_flow": null,
            "grid_area": null,
            "grid_auto_columns": null,
            "grid_auto_flow": null,
            "grid_auto_rows": null,
            "grid_column": null,
            "grid_gap": null,
            "grid_row": null,
            "grid_template_areas": null,
            "grid_template_columns": null,
            "grid_template_rows": null,
            "height": null,
            "justify_content": null,
            "justify_items": null,
            "left": null,
            "margin": null,
            "max_height": null,
            "max_width": null,
            "min_height": null,
            "min_width": null,
            "object_fit": null,
            "object_position": null,
            "order": null,
            "overflow": null,
            "overflow_x": null,
            "overflow_y": null,
            "padding": null,
            "right": null,
            "top": null,
            "visibility": null,
            "width": null
          }
        },
        "3e400a71b4ca42489acc00c92ec55da8": {
          "model_module": "@jupyter-widgets/controls",
          "model_name": "DescriptionStyleModel",
          "model_module_version": "1.5.0",
          "state": {
            "_model_module": "@jupyter-widgets/controls",
            "_model_module_version": "1.5.0",
            "_model_name": "DescriptionStyleModel",
            "_view_count": null,
            "_view_module": "@jupyter-widgets/base",
            "_view_module_version": "1.2.0",
            "_view_name": "StyleView",
            "description_width": ""
          }
        },
        "197440c0a530458784ba6b90fda2dba5": {
          "model_module": "@jupyter-widgets/controls",
          "model_name": "HBoxModel",
          "model_module_version": "1.5.0",
          "state": {
            "_dom_classes": [],
            "_model_module": "@jupyter-widgets/controls",
            "_model_module_version": "1.5.0",
            "_model_name": "HBoxModel",
            "_view_count": null,
            "_view_module": "@jupyter-widgets/controls",
            "_view_module_version": "1.5.0",
            "_view_name": "HBoxView",
            "box_style": "",
            "children": [
              "IPY_MODEL_56f47149b1a5451a90b9232459b6e767",
              "IPY_MODEL_9daca6b3a8e1473fb610099337c2031e",
              "IPY_MODEL_401df54718c44b1f82cc6fd1d7dc1d82"
            ],
            "layout": "IPY_MODEL_93aefee2d4984dd8a38cfe45dfe0fe2b"
          }
        },
        "56f47149b1a5451a90b9232459b6e767": {
          "model_module": "@jupyter-widgets/controls",
          "model_name": "HTMLModel",
          "model_module_version": "1.5.0",
          "state": {
            "_dom_classes": [],
            "_model_module": "@jupyter-widgets/controls",
            "_model_module_version": "1.5.0",
            "_model_name": "HTMLModel",
            "_view_count": null,
            "_view_module": "@jupyter-widgets/controls",
            "_view_module_version": "1.5.0",
            "_view_name": "HTMLView",
            "description": "",
            "description_tooltip": null,
            "layout": "IPY_MODEL_3e4e3cd2cc1a44169defbc9566c21b46",
            "placeholder": "​",
            "style": "IPY_MODEL_b7c94dc80f09494294b7ffc47354cdfc",
            "value": "100%"
          }
        },
        "9daca6b3a8e1473fb610099337c2031e": {
          "model_module": "@jupyter-widgets/controls",
          "model_name": "FloatProgressModel",
          "model_module_version": "1.5.0",
          "state": {
            "_dom_classes": [],
            "_model_module": "@jupyter-widgets/controls",
            "_model_module_version": "1.5.0",
            "_model_name": "FloatProgressModel",
            "_view_count": null,
            "_view_module": "@jupyter-widgets/controls",
            "_view_module_version": "1.5.0",
            "_view_name": "ProgressView",
            "bar_style": "success",
            "description": "",
            "description_tooltip": null,
            "layout": "IPY_MODEL_a665515cdcbe4531aa647096cb5e89c3",
            "max": 5,
            "min": 0,
            "orientation": "horizontal",
            "style": "IPY_MODEL_7c7f7008c9b24222a678f5a49be29a9a",
            "value": 5
          }
        },
        "401df54718c44b1f82cc6fd1d7dc1d82": {
          "model_module": "@jupyter-widgets/controls",
          "model_name": "HTMLModel",
          "model_module_version": "1.5.0",
          "state": {
            "_dom_classes": [],
            "_model_module": "@jupyter-widgets/controls",
            "_model_module_version": "1.5.0",
            "_model_name": "HTMLModel",
            "_view_count": null,
            "_view_module": "@jupyter-widgets/controls",
            "_view_module_version": "1.5.0",
            "_view_name": "HTMLView",
            "description": "",
            "description_tooltip": null,
            "layout": "IPY_MODEL_0aafc54e3a5c4163a80d55d58e795d23",
            "placeholder": "​",
            "style": "IPY_MODEL_5527cde6051742118859043b4d09118e",
            "value": " 5/5 [03:53&lt;00:00, 46.60s/it]"
          }
        },
        "93aefee2d4984dd8a38cfe45dfe0fe2b": {
          "model_module": "@jupyter-widgets/base",
          "model_name": "LayoutModel",
          "model_module_version": "1.2.0",
          "state": {
            "_model_module": "@jupyter-widgets/base",
            "_model_module_version": "1.2.0",
            "_model_name": "LayoutModel",
            "_view_count": null,
            "_view_module": "@jupyter-widgets/base",
            "_view_module_version": "1.2.0",
            "_view_name": "LayoutView",
            "align_content": null,
            "align_items": null,
            "align_self": null,
            "border": null,
            "bottom": null,
            "display": null,
            "flex": null,
            "flex_flow": null,
            "grid_area": null,
            "grid_auto_columns": null,
            "grid_auto_flow": null,
            "grid_auto_rows": null,
            "grid_column": null,
            "grid_gap": null,
            "grid_row": null,
            "grid_template_areas": null,
            "grid_template_columns": null,
            "grid_template_rows": null,
            "height": null,
            "justify_content": null,
            "justify_items": null,
            "left": null,
            "margin": null,
            "max_height": null,
            "max_width": null,
            "min_height": null,
            "min_width": null,
            "object_fit": null,
            "object_position": null,
            "order": null,
            "overflow": null,
            "overflow_x": null,
            "overflow_y": null,
            "padding": null,
            "right": null,
            "top": null,
            "visibility": null,
            "width": null
          }
        },
        "3e4e3cd2cc1a44169defbc9566c21b46": {
          "model_module": "@jupyter-widgets/base",
          "model_name": "LayoutModel",
          "model_module_version": "1.2.0",
          "state": {
            "_model_module": "@jupyter-widgets/base",
            "_model_module_version": "1.2.0",
            "_model_name": "LayoutModel",
            "_view_count": null,
            "_view_module": "@jupyter-widgets/base",
            "_view_module_version": "1.2.0",
            "_view_name": "LayoutView",
            "align_content": null,
            "align_items": null,
            "align_self": null,
            "border": null,
            "bottom": null,
            "display": null,
            "flex": null,
            "flex_flow": null,
            "grid_area": null,
            "grid_auto_columns": null,
            "grid_auto_flow": null,
            "grid_auto_rows": null,
            "grid_column": null,
            "grid_gap": null,
            "grid_row": null,
            "grid_template_areas": null,
            "grid_template_columns": null,
            "grid_template_rows": null,
            "height": null,
            "justify_content": null,
            "justify_items": null,
            "left": null,
            "margin": null,
            "max_height": null,
            "max_width": null,
            "min_height": null,
            "min_width": null,
            "object_fit": null,
            "object_position": null,
            "order": null,
            "overflow": null,
            "overflow_x": null,
            "overflow_y": null,
            "padding": null,
            "right": null,
            "top": null,
            "visibility": null,
            "width": null
          }
        },
        "b7c94dc80f09494294b7ffc47354cdfc": {
          "model_module": "@jupyter-widgets/controls",
          "model_name": "DescriptionStyleModel",
          "model_module_version": "1.5.0",
          "state": {
            "_model_module": "@jupyter-widgets/controls",
            "_model_module_version": "1.5.0",
            "_model_name": "DescriptionStyleModel",
            "_view_count": null,
            "_view_module": "@jupyter-widgets/base",
            "_view_module_version": "1.2.0",
            "_view_name": "StyleView",
            "description_width": ""
          }
        },
        "a665515cdcbe4531aa647096cb5e89c3": {
          "model_module": "@jupyter-widgets/base",
          "model_name": "LayoutModel",
          "model_module_version": "1.2.0",
          "state": {
            "_model_module": "@jupyter-widgets/base",
            "_model_module_version": "1.2.0",
            "_model_name": "LayoutModel",
            "_view_count": null,
            "_view_module": "@jupyter-widgets/base",
            "_view_module_version": "1.2.0",
            "_view_name": "LayoutView",
            "align_content": null,
            "align_items": null,
            "align_self": null,
            "border": null,
            "bottom": null,
            "display": null,
            "flex": null,
            "flex_flow": null,
            "grid_area": null,
            "grid_auto_columns": null,
            "grid_auto_flow": null,
            "grid_auto_rows": null,
            "grid_column": null,
            "grid_gap": null,
            "grid_row": null,
            "grid_template_areas": null,
            "grid_template_columns": null,
            "grid_template_rows": null,
            "height": null,
            "justify_content": null,
            "justify_items": null,
            "left": null,
            "margin": null,
            "max_height": null,
            "max_width": null,
            "min_height": null,
            "min_width": null,
            "object_fit": null,
            "object_position": null,
            "order": null,
            "overflow": null,
            "overflow_x": null,
            "overflow_y": null,
            "padding": null,
            "right": null,
            "top": null,
            "visibility": null,
            "width": null
          }
        },
        "7c7f7008c9b24222a678f5a49be29a9a": {
          "model_module": "@jupyter-widgets/controls",
          "model_name": "ProgressStyleModel",
          "model_module_version": "1.5.0",
          "state": {
            "_model_module": "@jupyter-widgets/controls",
            "_model_module_version": "1.5.0",
            "_model_name": "ProgressStyleModel",
            "_view_count": null,
            "_view_module": "@jupyter-widgets/base",
            "_view_module_version": "1.2.0",
            "_view_name": "StyleView",
            "bar_color": null,
            "description_width": ""
          }
        },
        "0aafc54e3a5c4163a80d55d58e795d23": {
          "model_module": "@jupyter-widgets/base",
          "model_name": "LayoutModel",
          "model_module_version": "1.2.0",
          "state": {
            "_model_module": "@jupyter-widgets/base",
            "_model_module_version": "1.2.0",
            "_model_name": "LayoutModel",
            "_view_count": null,
            "_view_module": "@jupyter-widgets/base",
            "_view_module_version": "1.2.0",
            "_view_name": "LayoutView",
            "align_content": null,
            "align_items": null,
            "align_self": null,
            "border": null,
            "bottom": null,
            "display": null,
            "flex": null,
            "flex_flow": null,
            "grid_area": null,
            "grid_auto_columns": null,
            "grid_auto_flow": null,
            "grid_auto_rows": null,
            "grid_column": null,
            "grid_gap": null,
            "grid_row": null,
            "grid_template_areas": null,
            "grid_template_columns": null,
            "grid_template_rows": null,
            "height": null,
            "justify_content": null,
            "justify_items": null,
            "left": null,
            "margin": null,
            "max_height": null,
            "max_width": null,
            "min_height": null,
            "min_width": null,
            "object_fit": null,
            "object_position": null,
            "order": null,
            "overflow": null,
            "overflow_x": null,
            "overflow_y": null,
            "padding": null,
            "right": null,
            "top": null,
            "visibility": null,
            "width": null
          }
        },
        "5527cde6051742118859043b4d09118e": {
          "model_module": "@jupyter-widgets/controls",
          "model_name": "DescriptionStyleModel",
          "model_module_version": "1.5.0",
          "state": {
            "_model_module": "@jupyter-widgets/controls",
            "_model_module_version": "1.5.0",
            "_model_name": "DescriptionStyleModel",
            "_view_count": null,
            "_view_module": "@jupyter-widgets/base",
            "_view_module_version": "1.2.0",
            "_view_name": "StyleView",
            "description_width": ""
          }
        }
      }
    }
  },
  "cells": [
    {
      "cell_type": "markdown",
      "metadata": {
        "id": "view-in-github",
        "colab_type": "text"
      },
      "source": [
        "<a href=\"https://colab.research.google.com/github/Shahid0120/pytorch-mini-projects/blob/main/FashionMNIST_FNN_CNN.ipynb\" target=\"_parent\"><img src=\"https://colab.research.google.com/assets/colab-badge.svg\" alt=\"Open In Colab\"/></a>"
      ]
    },
    {
      "cell_type": "markdown",
      "source": [
        "# FashionMNIST Multiclass classification using CNN architecture\n",
        "In this notebook i will using the FashionMNIST dataset which contrains 101'000 images of 101 different food categories!\n",
        "\n",
        "I will experiment with different Neural Network architectures including FNN,CNN and ResNet"
      ],
      "metadata": {
        "id": "GAeojHR42umq"
      }
    },
    {
      "cell_type": "code",
      "source": [
        "from google.colab import userdata\n",
        "\n",
        "# Set up repo\n",
        "password_github = userdata.get('password-github')\n",
        "\n",
        "!git config --global user.name \"Shahid0120\"\n",
        "!git config --global user.email \"shahid.hussain0120@gmail.com\"\n",
        "!git config --global user.password password_github\n",
        "\n",
        "token = userdata.get('github-token')\n",
        "username = 'Shahid0120'\n",
        "repo='pytorch-mini-projects'\n",
        "\n",
        "!git clone https://{token}@github.com/{username}/{repo}"
      ],
      "metadata": {
        "colab": {
          "base_uri": "https://localhost:8080/"
        },
        "id": "X-n0_PiUED5h",
        "outputId": "dde44606-0050-431a-b878-892babcf19eb"
      },
      "execution_count": 96,
      "outputs": [
        {
          "output_type": "stream",
          "name": "stdout",
          "text": [
            "Cloning into 'pytorch-mini-projects'...\n",
            "remote: Enumerating objects: 18, done.\u001b[K\n",
            "remote: Counting objects: 100% (18/18), done.\u001b[K\n",
            "remote: Compressing objects: 100% (16/16), done.\u001b[K\n",
            "remote: Total 18 (delta 5), reused 3 (delta 0), pack-reused 0 (from 0)\u001b[K\n",
            "Receiving objects: 100% (18/18), 156.71 KiB | 1.19 MiB/s, done.\n",
            "Resolving deltas: 100% (5/5), done.\n"
          ]
        }
      ]
    },
    {
      "cell_type": "markdown",
      "source": [
        "# Importing Data"
      ],
      "metadata": {
        "id": "bzmt8ozMQH0x"
      }
    },
    {
      "cell_type": "code",
      "source": [
        "import torch\n",
        "import numpy as np\n",
        "import matplotlib.pyplot as plt\n",
        "from torch import nn\n",
        "from torch.utils.data import DataLoader, Dataset\n",
        "import torchvision\n",
        "from torchvision import datasets, transforms\n",
        "from torchvision.transforms import ToTensor, Resize"
      ],
      "metadata": {
        "id": "LbEu8uJo3-ot"
      },
      "execution_count": 1,
      "outputs": []
    },
    {
      "cell_type": "code",
      "source": [
        "!pip install torchmetrics"
      ],
      "metadata": {
        "colab": {
          "base_uri": "https://localhost:8080/"
        },
        "id": "XqNYmwcPOXDW",
        "outputId": "570366b8-46aa-4f66-dda3-223e3fc32709"
      },
      "execution_count": 15,
      "outputs": [
        {
          "output_type": "stream",
          "name": "stdout",
          "text": [
            "Collecting torchmetrics\n",
            "  Downloading torchmetrics-1.4.1-py3-none-any.whl.metadata (20 kB)\n",
            "Requirement already satisfied: numpy>1.20.0 in /usr/local/lib/python3.10/dist-packages (from torchmetrics) (1.26.4)\n",
            "Requirement already satisfied: packaging>17.1 in /usr/local/lib/python3.10/dist-packages (from torchmetrics) (24.1)\n",
            "Requirement already satisfied: torch>=1.10.0 in /usr/local/lib/python3.10/dist-packages (from torchmetrics) (2.4.0+cu121)\n",
            "Collecting lightning-utilities>=0.8.0 (from torchmetrics)\n",
            "  Downloading lightning_utilities-0.11.7-py3-none-any.whl.metadata (5.2 kB)\n",
            "Requirement already satisfied: setuptools in /usr/local/lib/python3.10/dist-packages (from lightning-utilities>=0.8.0->torchmetrics) (71.0.4)\n",
            "Requirement already satisfied: typing-extensions in /usr/local/lib/python3.10/dist-packages (from lightning-utilities>=0.8.0->torchmetrics) (4.12.2)\n",
            "Requirement already satisfied: filelock in /usr/local/lib/python3.10/dist-packages (from torch>=1.10.0->torchmetrics) (3.15.4)\n",
            "Requirement already satisfied: sympy in /usr/local/lib/python3.10/dist-packages (from torch>=1.10.0->torchmetrics) (1.13.2)\n",
            "Requirement already satisfied: networkx in /usr/local/lib/python3.10/dist-packages (from torch>=1.10.0->torchmetrics) (3.3)\n",
            "Requirement already satisfied: jinja2 in /usr/local/lib/python3.10/dist-packages (from torch>=1.10.0->torchmetrics) (3.1.4)\n",
            "Requirement already satisfied: fsspec in /usr/local/lib/python3.10/dist-packages (from torch>=1.10.0->torchmetrics) (2024.6.1)\n",
            "Requirement already satisfied: MarkupSafe>=2.0 in /usr/local/lib/python3.10/dist-packages (from jinja2->torch>=1.10.0->torchmetrics) (2.1.5)\n",
            "Requirement already satisfied: mpmath<1.4,>=1.1.0 in /usr/local/lib/python3.10/dist-packages (from sympy->torch>=1.10.0->torchmetrics) (1.3.0)\n",
            "Downloading torchmetrics-1.4.1-py3-none-any.whl (866 kB)\n",
            "\u001b[2K   \u001b[90m━━━━━━━━━━━━━━━━━━━━━━━━━━━━━━━━━━━━━━━━\u001b[0m \u001b[32m866.2/866.2 kB\u001b[0m \u001b[31m11.7 MB/s\u001b[0m eta \u001b[36m0:00:00\u001b[0m\n",
            "\u001b[?25hDownloading lightning_utilities-0.11.7-py3-none-any.whl (26 kB)\n",
            "Installing collected packages: lightning-utilities, torchmetrics\n",
            "Successfully installed lightning-utilities-0.11.7 torchmetrics-1.4.1\n"
          ]
        }
      ]
    },
    {
      "cell_type": "code",
      "source": [
        "# set up test data\n",
        "\n",
        "train_data = datasets.FashionMNIST(\n",
        "    root='data',\n",
        "    train=True,\n",
        "    transform=transforms.Compose([\n",
        "        transforms.ToTensor(),\n",
        "    ]),\n",
        "    download=True\n",
        ")\n",
        "\n",
        "test_data = datasets.FashionMNIST(\n",
        "    root='data',\n",
        "    train=False,\n",
        "    transform=transforms.Compose([\n",
        "        transforms.ToTensor(),\n",
        "    ]),\n",
        "    download=True\n",
        ")\n"
      ],
      "metadata": {
        "id": "Jq-uJrEw4uQ2",
        "colab": {
          "base_uri": "https://localhost:8080/"
        },
        "outputId": "152b9ccd-5b4b-4e9c-fa54-1129d54a3b41"
      },
      "execution_count": 2,
      "outputs": [
        {
          "output_type": "stream",
          "name": "stdout",
          "text": [
            "Downloading http://fashion-mnist.s3-website.eu-central-1.amazonaws.com/train-images-idx3-ubyte.gz\n",
            "Downloading http://fashion-mnist.s3-website.eu-central-1.amazonaws.com/train-images-idx3-ubyte.gz to data/FashionMNIST/raw/train-images-idx3-ubyte.gz\n"
          ]
        },
        {
          "output_type": "stream",
          "name": "stderr",
          "text": [
            "100%|██████████| 26421880/26421880 [00:14<00:00, 1854698.80it/s]\n"
          ]
        },
        {
          "output_type": "stream",
          "name": "stdout",
          "text": [
            "Extracting data/FashionMNIST/raw/train-images-idx3-ubyte.gz to data/FashionMNIST/raw\n",
            "\n",
            "Downloading http://fashion-mnist.s3-website.eu-central-1.amazonaws.com/train-labels-idx1-ubyte.gz\n",
            "Downloading http://fashion-mnist.s3-website.eu-central-1.amazonaws.com/train-labels-idx1-ubyte.gz to data/FashionMNIST/raw/train-labels-idx1-ubyte.gz\n"
          ]
        },
        {
          "output_type": "stream",
          "name": "stderr",
          "text": [
            "100%|██████████| 29515/29515 [00:00<00:00, 136318.16it/s]\n"
          ]
        },
        {
          "output_type": "stream",
          "name": "stdout",
          "text": [
            "Extracting data/FashionMNIST/raw/train-labels-idx1-ubyte.gz to data/FashionMNIST/raw\n",
            "\n",
            "Downloading http://fashion-mnist.s3-website.eu-central-1.amazonaws.com/t10k-images-idx3-ubyte.gz\n",
            "Downloading http://fashion-mnist.s3-website.eu-central-1.amazonaws.com/t10k-images-idx3-ubyte.gz to data/FashionMNIST/raw/t10k-images-idx3-ubyte.gz\n"
          ]
        },
        {
          "output_type": "stream",
          "name": "stderr",
          "text": [
            "100%|██████████| 4422102/4422102 [00:02<00:00, 1559904.47it/s]\n"
          ]
        },
        {
          "output_type": "stream",
          "name": "stdout",
          "text": [
            "Extracting data/FashionMNIST/raw/t10k-images-idx3-ubyte.gz to data/FashionMNIST/raw\n",
            "\n",
            "Downloading http://fashion-mnist.s3-website.eu-central-1.amazonaws.com/t10k-labels-idx1-ubyte.gz\n",
            "Downloading http://fashion-mnist.s3-website.eu-central-1.amazonaws.com/t10k-labels-idx1-ubyte.gz to data/FashionMNIST/raw/t10k-labels-idx1-ubyte.gz\n"
          ]
        },
        {
          "output_type": "stream",
          "name": "stderr",
          "text": [
            "100%|██████████| 5148/5148 [00:00<00:00, 5272839.31it/s]"
          ]
        },
        {
          "output_type": "stream",
          "name": "stdout",
          "text": [
            "Extracting data/FashionMNIST/raw/t10k-labels-idx1-ubyte.gz to data/FashionMNIST/raw\n",
            "\n"
          ]
        },
        {
          "output_type": "stream",
          "name": "stderr",
          "text": [
            "\n"
          ]
        }
      ]
    },
    {
      "cell_type": "code",
      "source": [
        "image, label = train_data[0]\n",
        "\n",
        "image.shape, label"
      ],
      "metadata": {
        "colab": {
          "base_uri": "https://localhost:8080/"
        },
        "id": "Fegvz8WnNEcm",
        "outputId": "ecab28eb-5f3c-4b88-ee2e-0c2d58dc1b8b"
      },
      "execution_count": 3,
      "outputs": [
        {
          "output_type": "execute_result",
          "data": {
            "text/plain": [
              "(torch.Size([1, 28, 28]), 9)"
            ]
          },
          "metadata": {},
          "execution_count": 3
        }
      ]
    },
    {
      "cell_type": "markdown",
      "source": [
        "# Visualise Images"
      ],
      "metadata": {
        "id": "QeGepoiUO_Y-"
      }
    },
    {
      "cell_type": "code",
      "source": [
        "fig, ax = plt.subplots(3, 3, figsize=(7, 7))  # Correct function name is 'plt.subplots'\n",
        "\n",
        "# Loop through and plot random images\n",
        "for i in range(9):\n",
        "    random_number = np.random.randint(low=200, high=20000)\n",
        "\n",
        "    image, label = train_data[random_number]  # Assuming train_data is defined elsewhere\n",
        "\n",
        "    # Compute row and column index for the subplot\n",
        "    row = i // 3\n",
        "    col = i % 3\n",
        "    ax[row, col].imshow(np.transpose(image, (1, 2, 0)))\n",
        "    ax[row, col].set_title(f\"Idx: {random_number} Label:{label}\")\n",
        "    ax[row, col].axis(False)\n",
        "plt.tight_layout()\n",
        "plt.show()"
      ],
      "metadata": {
        "colab": {
          "base_uri": "https://localhost:8080/",
          "height": 707
        },
        "id": "69nqjAyb4tp2",
        "outputId": "4a98ab02-7b36-4928-8931-fb2477d7626c"
      },
      "execution_count": 4,
      "outputs": [
        {
          "output_type": "display_data",
          "data": {
            "text/plain": [
              "<Figure size 700x700 with 9 Axes>"
            ],
            "image/png": "[encoded data removed]"
          },
          "metadata": {}
        }
      ]
    },
    {
      "cell_type": "code",
      "source": [
        "class_name_index = train_data.class_to_idx\n",
        "class_name_index"
      ],
      "metadata": {
        "colab": {
          "base_uri": "https://localhost:8080/"
        },
        "id": "gj8RMUb6OSwM",
        "outputId": "2a1a3100-3d8b-4064-f3df-5087baaae6e9"
      },
      "execution_count": 5,
      "outputs": [
        {
          "output_type": "execute_result",
          "data": {
            "text/plain": [
              "{'T-shirt/top': 0,\n",
              " 'Trouser': 1,\n",
              " 'Pullover': 2,\n",
              " 'Dress': 3,\n",
              " 'Coat': 4,\n",
              " 'Sandal': 5,\n",
              " 'Shirt': 6,\n",
              " 'Sneaker': 7,\n",
              " 'Bag': 8,\n",
              " 'Ankle boot': 9}"
            ]
          },
          "metadata": {},
          "execution_count": 5
        }
      ]
    },
    {
      "cell_type": "markdown",
      "source": [
        "# DataLoader + Mini Batches"
      ],
      "metadata": {
        "id": "kcEeMVqlOjCl"
      }
    },
    {
      "cell_type": "code",
      "source": [
        "train_data, test_data"
      ],
      "metadata": {
        "colab": {
          "base_uri": "https://localhost:8080/"
        },
        "id": "0LRNEydmRc3D",
        "outputId": "fc14bec5-23be-48a2-9bc4-b6032a8fbbcb"
      },
      "execution_count": 6,
      "outputs": [
        {
          "output_type": "execute_result",
          "data": {
            "text/plain": [
              "(Dataset FashionMNIST\n",
              "     Number of datapoints: 60000\n",
              "     Root location: data\n",
              "     Split: Train\n",
              "     StandardTransform\n",
              " Transform: Compose(\n",
              "                ToTensor()\n",
              "            ),\n",
              " Dataset FashionMNIST\n",
              "     Number of datapoints: 10000\n",
              "     Root location: data\n",
              "     Split: Test\n",
              "     StandardTransform\n",
              " Transform: Compose(\n",
              "                ToTensor()\n",
              "            ))"
            ]
          },
          "metadata": {},
          "execution_count": 6
        }
      ]
    },
    {
      "cell_type": "code",
      "source": [
        "BATCH_SIZE = 32\n",
        "NUM_WORKERS = 0\n",
        "# train DataLoader\n",
        "train_dataloader = DataLoader(\n",
        "    dataset=train_data,\n",
        "    batch_size=BATCH_SIZE,\n",
        "    shuffle=True,\n",
        "    num_workers=NUM_WORKERS\n",
        ")\n",
        "\n",
        "# test Dataloader\n",
        "test_dataloader = DataLoader(\n",
        "    dataset=test_data,\n",
        "    batch_size=BATCH_SIZE,\n",
        "    shuffle=False,\n",
        "    num_workers=NUM_WORKERS\n",
        ")\n",
        "\n",
        "train_dataloader, test_dataloader"
      ],
      "metadata": {
        "colab": {
          "base_uri": "https://localhost:8080/"
        },
        "id": "mkumEWDbTo40",
        "outputId": "66971277-5242-44c8-fb81-492d7986adff"
      },
      "execution_count": 7,
      "outputs": [
        {
          "output_type": "execute_result",
          "data": {
            "text/plain": [
              "(<torch.utils.data.dataloader.DataLoader at 0x789fd0e76860>,\n",
              " <torch.utils.data.dataloader.DataLoader at 0x789fd0e750c0>)"
            ]
          },
          "metadata": {},
          "execution_count": 7
        }
      ]
    },
    {
      "cell_type": "code",
      "source": [
        "print(f\"DataLoaders: {train_dataloader, test_dataloader}\")\n",
        "print(f\"For Train Data there is {len(train_dataloader)} in each batch, total of {BATCH_SIZE}\")\n",
        "print(f\"For Test Data there is {len(test_dataloader)} in each batch, total of {BATCH_SIZE}\")\n"
      ],
      "metadata": {
        "colab": {
          "base_uri": "https://localhost:8080/"
        },
        "id": "neaFvqWAUuEA",
        "outputId": "19ec0873-a8c9-404a-ffce-117c1faea74a"
      },
      "execution_count": 8,
      "outputs": [
        {
          "output_type": "stream",
          "name": "stdout",
          "text": [
            "DataLoaders: (<torch.utils.data.dataloader.DataLoader object at 0x789fd0e76860>, <torch.utils.data.dataloader.DataLoader object at 0x789fd0e750c0>)\n",
            "For Train Data there is 1875 in each batch, total of 32\n",
            "For Test Data there is 313 in each batch, total of 32\n"
          ]
        }
      ]
    },
    {
      "cell_type": "code",
      "source": [
        "# Checking Sample in DataLoader\n",
        "train_featues_batch, test_labels_batch = next(iter(train_dataloader))\n",
        "train_featues_batch.shape, test_labels_batch.shape"
      ],
      "metadata": {
        "colab": {
          "base_uri": "https://localhost:8080/"
        },
        "id": "Yw6FsGqCbbfX",
        "outputId": "f3716538-6c03-4d38-9abd-b29d00b7de15"
      },
      "execution_count": 9,
      "outputs": [
        {
          "output_type": "execute_result",
          "data": {
            "text/plain": [
              "(torch.Size([32, 1, 28, 28]), torch.Size([32]))"
            ]
          },
          "metadata": {},
          "execution_count": 9
        }
      ]
    },
    {
      "cell_type": "code",
      "source": [
        "fig, ax = plt.subplots(3, 3, figsize=(7, 7))  # Correct function name is 'plt.subplots'\n",
        "\n",
        "# Loop through and plot random images\n",
        "for i in range(9):\n",
        "    idx = np.random.randint(0, len(train_featues_batch))\n",
        "\n",
        "    image =  train_featues_batch[idx]  # Assuming train_data is defined elsewhere\n",
        "    label = test_labels_batch[idx]\n",
        "    # Compute row and column index for the subplot\n",
        "    row = i // 3\n",
        "    col = i % 3\n",
        "    ax[row, col].imshow(np.transpose(image, (1, 2, 0)))\n",
        "    ax[row, col].set_title(f\"Idx: {idx} Label:{label}\")\n",
        "    ax[row, col].axis(False)\n",
        "plt.tight_layout()\n",
        "plt.show()"
      ],
      "metadata": {
        "colab": {
          "base_uri": "https://localhost:8080/",
          "height": 707
        },
        "id": "6tgKjNEe0bZN",
        "outputId": "17f26e9f-2a27-4690-fceb-891b37dda47e"
      },
      "execution_count": 10,
      "outputs": [
        {
          "output_type": "display_data",
          "data": {
            "text/plain": [
              "<Figure size 700x700 with 9 Axes>"
            ],
            "image/png": "[encoded data removed]"
          },
          "metadata": {}
        }
      ]
    },
    {
      "cell_type": "markdown",
      "source": [
        "**Model 0: Baseline Model**"
      ],
      "metadata": {
        "id": "GdPY-ya60_5P"
      }
    },
    {
      "cell_type": "code",
      "source": [
        "# Flatten input\n",
        "flatten_image = nn.Flatten()\n",
        "\n",
        "sample_train_image = train_featues_batch[0]\n",
        "sample_train_image_flattened = flatten_image(sample_train_image)\n",
        "\n",
        "print(f\"The Sample shape from batch 1 : {sample_train_image.shape}\")\n",
        "print(f\"The Sample shape from batch 1 flattended: {sample_train_image_flattened.shape}\")\n",
        "\n"
      ],
      "metadata": {
        "colab": {
          "base_uri": "https://localhost:8080/"
        },
        "id": "U_hm2BvY1CST",
        "outputId": "6dc39ebb-04b1-4c50-a4cd-796e5988134f"
      },
      "execution_count": 11,
      "outputs": [
        {
          "output_type": "stream",
          "name": "stdout",
          "text": [
            "The Sample shape from batch 1 : torch.Size([1, 28, 28])\n",
            "The Sample shape from batch 1 flattended: torch.Size([1, 784])\n"
          ]
        }
      ]
    },
    {
      "cell_type": "markdown",
      "source": [
        "# Model 0 - Baseline model"
      ],
      "metadata": {
        "id": "Q_12GeT7OLUG"
      }
    },
    {
      "cell_type": "code",
      "source": [
        "# Build Model 0\n",
        "class FashionMNISTCNNV1(nn.Module):\n",
        "  def __init__(self, input_dimension=784, hidden_units=10, output_dimension=10):\n",
        "    super().__init__()\n",
        "    self.layers_stack = nn.Sequential(\n",
        "        nn.Flatten(),\n",
        "        nn.Linear(in_features=input_dimension, out_features=hidden_units),\n",
        "        nn.Linear(in_features=hidden_units, out_features=10)\n",
        "    )\n",
        "\n",
        "  def forward(self, x):\n",
        "    return self.layers_stack(x)\n",
        "\n",
        "# Random seed reproducibility\n",
        "torch.manual_seed(64)\n",
        "\n",
        "# Initialize Module\n",
        "modelV1 = FashionMNISTCNNV1(input_dimension=784, hidden_units=20, output_dimension=len(train_data.classes))\n",
        "modelV1"
      ],
      "metadata": {
        "colab": {
          "base_uri": "https://localhost:8080/"
        },
        "id": "FLQe5tmZOI39",
        "outputId": "67d11750-0f5b-41b8-879e-3e64511a8664"
      },
      "execution_count": 12,
      "outputs": [
        {
          "output_type": "execute_result",
          "data": {
            "text/plain": [
              "FashionMNISTCNNV1(\n",
              "  (layers_stack): Sequential(\n",
              "    (0): Flatten(start_dim=1, end_dim=-1)\n",
              "    (1): Linear(in_features=784, out_features=20, bias=True)\n",
              "    (2): Linear(in_features=20, out_features=10, bias=True)\n",
              "  )\n",
              ")"
            ]
          },
          "metadata": {},
          "execution_count": 12
        }
      ]
    },
    {
      "cell_type": "code",
      "source": [
        "# Test ModelV1 with random tensor\n",
        "test_tensor = torch.randn(size=(1, 28, 28))\n",
        "modelV1_test = modelV1(test_tensor)\n",
        "\n",
        "print(f\"The initial shape of tensor was : {test_tensor.shape}\")\n",
        "print(f\"After input into model the shape is : {modelV1_test.shape}\")\n",
        "print(f\"Output of model is logit : {modelV1_test}\")"
      ],
      "metadata": {
        "colab": {
          "base_uri": "https://localhost:8080/"
        },
        "id": "o7-Byvf0QVkL",
        "outputId": "bb41a33a-418e-4cf2-fca3-5e0680324548"
      },
      "execution_count": 16,
      "outputs": [
        {
          "output_type": "stream",
          "name": "stdout",
          "text": [
            "The initial shape of tensor was : torch.Size([1, 28, 28])\n",
            "After input into model the shape is : torch.Size([1, 10])\n",
            "Output of model is logit : tensor([[ 0.1747,  0.2227,  0.0862,  0.5332,  0.0263,  0.1053, -0.1129, -0.0809,\n",
            "         -0.7109,  0.1440]], grad_fn=<AddmmBackward0>)\n"
          ]
        }
      ]
    },
    {
      "cell_type": "code",
      "source": [
        "import torchmetrics\n",
        "from torchmetrics import Accuracy\n",
        "from torch.optim.sgd import SGD\n",
        "\n",
        "num_classes = len(train_data.classes)\n",
        "\n",
        "accuracy = Accuracy(task='multiclass', num_classes=int(num_classes))\n",
        "\n",
        "# Loss function\n",
        "loss_fn = nn.CrossEntropyLoss()\n",
        "\n",
        "# Optimizer\n",
        "optimizer = SGD(params=modelV1.parameters(), lr=0.1)"
      ],
      "metadata": {
        "id": "inTi1K9EUh06"
      },
      "execution_count": 17,
      "outputs": []
    },
    {
      "cell_type": "markdown",
      "source": [
        "# Creating functions for time experiments"
      ],
      "metadata": {
        "id": "HP6lIhKiXxRI"
      }
    },
    {
      "cell_type": "code",
      "source": [
        "from timeit import default_timer as timer\n",
        "\n",
        "def print_train_time(start: float,\n",
        "                     end: float,\n",
        "                     device=None):\n",
        "  \"\"\"\n",
        "    Print different between start and end time\n",
        "  \"\"\"\n",
        "  total_time = end - start\n",
        "  print(f\"Train time on {device} : {total_time:.3f} seconds\")\n",
        "  return total_time\n"
      ],
      "metadata": {
        "id": "gW9wSMTuX019"
      },
      "execution_count": 18,
      "outputs": []
    },
    {
      "cell_type": "markdown",
      "source": [
        "# Training Loop\n"
      ],
      "metadata": {
        "id": "S4pTjcKjYrwl"
      }
    },
    {
      "cell_type": "code",
      "source": [
        "from tqdm.auto import tqdm\n",
        "\n",
        "# Set seed and timer\n",
        "torch.manual_seed(42)\n",
        "train_time_start_on_cpu = timer()\n",
        "\n",
        "# Set number of epochs (Small for experimentation)\n",
        "epochs = 10\n",
        "\n",
        "# Set Start timer\n",
        "set_start_timer = timer()\n",
        "\n",
        "# Loop Epochs\n",
        "for epoch in tqdm(range(epochs)):\n",
        "  print(f\"Epoch : {epoch}\")\n",
        "\n",
        "  # training loss for each epoch start at zero\n",
        "  train_loss = 0\n",
        "\n",
        "  # Enumerate all batches\n",
        "  for batch, (X,y) in enumerate(train_dataloader):\n",
        "\n",
        "    # Train model on bacth\n",
        "    modelV1.train()\n",
        "\n",
        "    # Foward pass\n",
        "    y_pred = modelV1(X)\n",
        "\n",
        "    # Loss per batch\n",
        "    loss = loss_fn(y_pred, y)\n",
        "    train_loss += loss\n",
        "\n",
        "    # Optimize the zero grad\n",
        "    optimizer.zero_grad()\n",
        "\n",
        "    # Backward\n",
        "    loss.backward()\n",
        "\n",
        "    # Optimizer step\n",
        "    optimizer.step()\n",
        "\n",
        "  # Average training loss\n",
        "  train_loss /= len(train_dataloader)\n",
        "\n",
        "  modelV1.eval()\n",
        "\n",
        "  test_ac, test_loss = 0, 0\n",
        "\n",
        "  # Evaluate on test data\n",
        "  with torch.inference_mode():\n",
        "\n",
        "    for X,y in test_dataloader:\n",
        "\n",
        "      # Predict y_test\n",
        "      test_pred = modelV1(X)\n",
        "\n",
        "      # Calculate loss\n",
        "      test_loss += loss_fn(test_pred, y)\n",
        "\n",
        "      # Calculate accuracy\n",
        "      accuracy.update(test_pred.argmax(dim=1), y)\n",
        "\n",
        "\n",
        "    # Average test loss\n",
        "    test_loss /= len(test_dataloader)\n",
        "\n",
        "    # Average test ac\n",
        "    test_ac =  accuracy.compute()\n",
        "    test_ac = test_ac * 100\n",
        "\n",
        "  # Print all values after all computation is done!\n",
        "  print(f\"Epoch : {epoch} | Train Loss : {train_loss} | Test Loss : {test_loss} | Test Accuracy : {test_ac}\")\n",
        "\n",
        "\n",
        "\n",
        "\n",
        "set_end_timer = timer()\n",
        "total_time = print_train_time(start=set_start_timer, end=set_end_timer )\n"
      ],
      "metadata": {
        "colab": {
          "base_uri": "https://localhost:8080/",
          "height": 433,
          "referenced_widgets": [
            "728607ac26724eeb9ead7672282887e7",
            "55490a21966a411a9bc12e538612a697",
            "42028a958837426c89c7c8735b73d4a0",
            "73bdb998740145bf8b6ffd3380bafbc7",
            "0b4c5b6ea8994619b2773e82e2f02020",
            "2549eb593c0545cd92be8bc6004cf8f5",
            "6d340ed9aeda4fc7bc698c2bff34c39b",
            "472ef3e567db482b96424f7e8821af94",
            "5835de0b62a44b66b6616feff1178e20",
            "6881cb702d204ceb9cf24ac1354c12e9",
            "8bc5071a1933450687e4a5fba6080713"
          ]
        },
        "id": "nqU9wonNZWIK",
        "outputId": "f9681147-48a8-463d-b323-54d662d490bd"
      },
      "execution_count": 19,
      "outputs": [
        {
          "output_type": "display_data",
          "data": {
            "text/plain": [
              "  0%|          | 0/10 [00:00<?, ?it/s]"
            ],
            "application/vnd.jupyter.widget-view+json": {
              "version_major": 2,
              "version_minor": 0,
              "model_id": "728607ac26724eeb9ead7672282887e7"
            }
          },
          "metadata": {}
        },
        {
          "output_type": "stream",
          "name": "stdout",
          "text": [
            "Epoch : 0\n",
            "Epoch : 0 | Train Loss : 0.5817340016365051 | Test Loss : 0.5036441087722778 | Test Accuracy : 82.34000396728516\n",
            "Epoch : 1\n",
            "Epoch : 1 | Train Loss : 0.47531262040138245 | Test Loss : 0.48455801606178284 | Test Accuracy : 82.61499786376953\n",
            "Epoch : 2\n",
            "Epoch : 2 | Train Loss : 0.4544387757778168 | Test Loss : 0.4777519404888153 | Test Accuracy : 82.86666870117188\n",
            "Epoch : 3\n",
            "Epoch : 3 | Train Loss : 0.44205984473228455 | Test Loss : 0.46294328570365906 | Test Accuracy : 83.05249786376953\n",
            "Epoch : 4\n",
            "Epoch : 4 | Train Loss : 0.4354955852031708 | Test Loss : 0.46865829825401306 | Test Accuracy : 83.09000396728516\n",
            "Epoch : 5\n",
            "Epoch : 5 | Train Loss : 0.4289843440055847 | Test Loss : 0.45908215641975403 | Test Accuracy : 83.20833587646484\n",
            "Epoch : 6\n",
            "Epoch : 6 | Train Loss : 0.42456868290901184 | Test Loss : 0.4875708222389221 | Test Accuracy : 83.22286224365234\n",
            "Epoch : 7\n",
            "Epoch : 7 | Train Loss : 0.42252346873283386 | Test Loss : 0.4724216163158417 | Test Accuracy : 83.2437515258789\n",
            "Epoch : 8\n",
            "Epoch : 8 | Train Loss : 0.42028868198394775 | Test Loss : 0.47145381569862366 | Test Accuracy : 83.27222442626953\n",
            "Epoch : 9\n",
            "Epoch : 9 | Train Loss : 0.41757524013519287 | Test Loss : 0.46245065331459045 | Test Accuracy : 83.30199432373047\n",
            "Train time on None : 109.564 seconds\n"
          ]
        }
      ]
    },
    {
      "cell_type": "markdown",
      "source": [
        "# Make predictions for Model 1 Functions"
      ],
      "metadata": {
        "id": "lC4YMxetzVvE"
      }
    },
    {
      "cell_type": "code",
      "source": [
        "def evaluate_model(model : torch.nn.Module,\n",
        "                   dataloader : torch.utils.data.DataLoader,\n",
        "                   loss_fn : torch.nn.Module,\n",
        "                   num_classes : np.int32,\n",
        "                   type_of_classification='multiclass'\n",
        "                   ):\n",
        "\n",
        "  \"\"\"\n",
        "  Given a model with paramters initialized it evaluate using dataloader\n",
        "  Paramters:\n",
        "    - Model\n",
        "    - Dataloader\n",
        "    - Loss function\n",
        "    - num_classes\n",
        "    - type_of_classification:\n",
        "      - multiclass\n",
        "      - multiclassification\n",
        "      - binary\n",
        "\n",
        "  Returns:\n",
        "    - Dictionary\n",
        "        - Model\n",
        "        - Loss\n",
        "        - Accuracy\n",
        "  \"\"\"\n",
        "\n",
        "  loss, ac = 0, 0\n",
        "  model.eval()\n",
        "  accuracy = torchmetrics.Accuracy(task=type_of_classification, num_classes=int(num_classes))\n",
        "\n",
        "  with torch.inference_mode():\n",
        "    # loop over all batches\n",
        "    for X,y in tqdm(dataloader):\n",
        "      # Predict labels\n",
        "      y_pred = model(X)\n",
        "\n",
        "      # Computer loss\n",
        "      loss += loss_fn(y_pred, y)\n",
        "\n",
        "      # Computer accuracy\n",
        "      accuracy.update(y_pred.argmax(dim=1), y)\n",
        "\n",
        "    # Loss average\n",
        "    loss /= len(dataloader)\n",
        "\n",
        "    # Accuracy\n",
        "    acc =  accuracy.compute()\n",
        "    acc = acc * 100\n",
        "\n",
        "\n",
        "  return {\n",
        "      \"model\": {model.__class__.__name__},\n",
        "      \"Loss\": f\"{loss.item():.5f}\",\n",
        "      \"Accuracy\": f\"{acc.item():.5f}\"\n",
        "  }\n",
        "\n",
        "number_classes = len(train_data.classes)\n",
        "\n",
        "modelV1_results = evaluate_model(model=modelV1, dataloader=test_dataloader,\n",
        "                                loss_fn=loss_fn,\n",
        "                                 num_classes=int(number_classes),\n",
        "                                 type_of_classification='multiclass'\n",
        "                                 )\n",
        "\n",
        "modelV1_results"
      ],
      "metadata": {
        "colab": {
          "base_uri": "https://localhost:8080/",
          "height": 66,
          "referenced_widgets": [
            "d4567a3e31834a4ab131ecc7e3a18665",
            "5ec0832ea688400da0de8736187a7a50",
            "093468aa9bf74459b253c334af4ce987",
            "f165ac77563e4c3283327994f4bd9944",
            "2cac311230e842b8ba91f56dcb9f596a",
            "769ec029074741f58a4d875eb92fb9bb",
            "28ada17ff7294ecf8ba6f542db533918",
            "819de6b4a33943528b17071cfcf06c70",
            "0c3f0c8965ab4f8aa84f824e08d37d42",
            "89e9bde30b1c4997a5618096550b6739",
            "d9501402267241dfbdb98a5a7a151243"
          ]
        },
        "id": "dW7YCa8AzZfx",
        "outputId": "91981a0f-97e1-47b3-b8e2-782a4840c12a"
      },
      "execution_count": 21,
      "outputs": [
        {
          "output_type": "display_data",
          "data": {
            "text/plain": [
              "  0%|          | 0/313 [00:00<?, ?it/s]"
            ],
            "application/vnd.jupyter.widget-view+json": {
              "version_major": 2,
              "version_minor": 0,
              "model_id": "d4567a3e31834a4ab131ecc7e3a18665"
            }
          },
          "metadata": {}
        },
        {
          "output_type": "execute_result",
          "data": {
            "text/plain": [
              "{'model': {'FashionMNISTCNNV1'}, 'Loss': '0.46245', 'Accuracy': '83.57000'}"
            ]
          },
          "metadata": {},
          "execution_count": 21
        }
      ]
    },
    {
      "cell_type": "markdown",
      "source": [
        "# Create Training Loop functions and evaluating Model 1"
      ],
      "metadata": {
        "id": "UFjpdo_O8JSj"
      }
    },
    {
      "cell_type": "code",
      "source": [
        "def train_step(\n",
        "    model: nn.Module,\n",
        "    train_dataloader: torch.utils.data.DataLoader,\n",
        "    loss_fn: nn.Module,\n",
        "    optimizer: torch.optim.Optimizer,\n",
        "    num_classes: int,\n",
        "    type_of_classification: str = 'multiclass'):\n",
        "    \"\"\"\n",
        "    Computes one training step\n",
        "\n",
        "    Packages used:\n",
        "    - torchmetrics\n",
        "    - torch\n",
        "    - tqdm\n",
        "    \"\"\"\n",
        "    train_loss = 0\n",
        "    accuracy = torchmetrics.Accuracy(task=type_of_classification, num_classes=num_classes)\n",
        "\n",
        "    for batch, (X, y) in enumerate(train_dataloader):\n",
        "      # Train model on bacth\n",
        "      model.train()\n",
        "\n",
        "      # Forward Prop\n",
        "      y_pred = model(X)\n",
        "\n",
        "      # Loss calc\n",
        "      loss = loss_fn(y_pred, y)\n",
        "      train_loss += loss.item()  # Accumulate the total loss\n",
        "\n",
        "      # Accuracy\n",
        "      accuracy.update(y_pred.argmax(dim=1), y)\n",
        "\n",
        "      # Zero grad\n",
        "      optimizer.zero_grad()\n",
        "\n",
        "      # Loss backward\n",
        "      loss.backward()\n",
        "\n",
        "      # Next step\n",
        "      optimizer.step()\n",
        "\n",
        "    train_loss /= len(train_dataloader)\n",
        "    train_acc = accuracy.compute()\n",
        "    train_acc = train_acc * 100\n",
        "\n",
        "    print(f\"Train Loss : {train_loss:.5f} | Train Accuracy : {train_acc:.2f}%\")\n",
        "\n",
        "def test_step(\n",
        "    model: nn.Module,\n",
        "    test_dataloader: torch.utils.data.DataLoader,\n",
        "    loss_fn: nn.Module,\n",
        "    num_classes: int,\n",
        "    type_of_classification: str = 'multiclass'):\n",
        "    \"\"\"\n",
        "    Computes one testing step\n",
        "\n",
        "    Packages used:\n",
        "    - torchmetrics\n",
        "    - torch\n",
        "    - tqdm\n",
        "    \"\"\"\n",
        "    test_loss = 0\n",
        "    accuracy = torchmetrics.Accuracy(task=type_of_classification, num_classes=num_classes)\n",
        "    model.eval()\n",
        "    with torch.inference_mode():\n",
        "      for X, y in test_dataloader:\n",
        "          test_pred = model(X)\n",
        "\n",
        "          # Test Loss\n",
        "          test_loss += loss_fn(test_pred, y)\n",
        "\n",
        "          # Accuracy\n",
        "          accuracy.update(test_pred.argmax(dim=1), y)\n",
        "\n",
        "      test_loss /= len(test_dataloader)  # Average loss of test batches\n",
        "      test_accuracy = accuracy.compute()\n",
        "      test_accuracy = test_accuracy * 100\n",
        "\n",
        "    print(f\"Test Loss: {test_loss:.5f} | Test Accuracy : {test_accuracy:.2f}%\")\n"
      ],
      "metadata": {
        "id": "8s3tHNkW8L68"
      },
      "execution_count": 22,
      "outputs": []
    },
    {
      "cell_type": "markdown",
      "source": [
        "Testing Functions using model_0"
      ],
      "metadata": {
        "id": "02i0p2YNCBy2"
      }
    },
    {
      "cell_type": "code",
      "source": [
        "torch.manual_seed(42)\n",
        "num_classes = len(train_data.classes)\n",
        "epochs = 5\n",
        "\n",
        "for epoch in tqdm(range(epochs)):\n",
        "    print(f\"Epoch {epoch+1}\")\n",
        "    print(\"-\" * 10)\n",
        "\n",
        "    # Call train function\n",
        "    train_step(\n",
        "        model=modelV1,\n",
        "        train_dataloader=train_dataloader,\n",
        "        loss_fn=loss_fn,\n",
        "        optimizer=optimizer,\n",
        "        num_classes=num_classes,\n",
        "        type_of_classification='multiclass'\n",
        "    )\n",
        "\n",
        "    # Call test function\n",
        "    test_step(\n",
        "        model=modelV1,\n",
        "        test_dataloader=test_dataloader,\n",
        "        loss_fn=loss_fn,\n",
        "        num_classes=num_classes,\n",
        "        type_of_classification='multiclass'\n",
        "    )\n",
        "\n"
      ],
      "metadata": {
        "colab": {
          "base_uri": "https://localhost:8080/",
          "height": 396,
          "referenced_widgets": [
            "1affc58d41824101a37302c575ebb647",
            "74e1c1b1cd6e4d8c95f613b9d7951493",
            "436fef2dcec449579468d3fc440c115c",
            "16779724a0bb4695a68feff24f616adc",
            "57b80dd404ac4aceaa533074a3938e1c",
            "06c3fd8159d64d9584e0f62b2d0fe416",
            "e28c88f1650c4eff9e20b8ccc0a34bdd",
            "fc9b8133ce9841aea8f6c39245b15380",
            "dea892b7fef64538b4fd3bc6a20e8bb1",
            "ceb4cffee73047f7b3ba397d9afc95bb",
            "4bddc3b4075c47d3bb3d4b3abd1b3e54"
          ]
        },
        "id": "ifBXx1gANXUo",
        "outputId": "fdfcb9f8-ce40-46dd-c513-b86c5d1d022b"
      },
      "execution_count": 23,
      "outputs": [
        {
          "output_type": "display_data",
          "data": {
            "text/plain": [
              "  0%|          | 0/5 [00:00<?, ?it/s]"
            ],
            "application/vnd.jupyter.widget-view+json": {
              "version_major": 2,
              "version_minor": 0,
              "model_id": "1affc58d41824101a37302c575ebb647"
            }
          },
          "metadata": {}
        },
        {
          "output_type": "stream",
          "name": "stdout",
          "text": [
            "Epoch 1\n",
            "----------\n",
            "Train Loss : 0.41562 | Train Accuracy : 85.33%\n",
            "Test Loss: 0.45338 | Test Accuracy : 84.13%\n",
            "Epoch 2\n",
            "----------\n",
            "Train Loss : 0.41421 | Train Accuracy : 85.51%\n",
            "Test Loss: 0.45574 | Test Accuracy : 84.20%\n",
            "Epoch 3\n",
            "----------\n",
            "Train Loss : 0.41154 | Train Accuracy : 85.44%\n",
            "Test Loss: 0.46094 | Test Accuracy : 84.20%\n",
            "Epoch 4\n",
            "----------\n",
            "Train Loss : 0.40889 | Train Accuracy : 85.65%\n",
            "Test Loss: 0.45562 | Test Accuracy : 83.84%\n",
            "Epoch 5\n",
            "----------\n",
            "Train Loss : 0.40783 | Train Accuracy : 85.68%\n",
            "Test Loss: 0.45891 | Test Accuracy : 83.46%\n"
          ]
        }
      ]
    },
    {
      "cell_type": "markdown",
      "source": [
        "high bias problem to model"
      ],
      "metadata": {
        "id": "_2mVbwYhP2jt"
      }
    },
    {
      "cell_type": "markdown",
      "source": [
        "# Create ModelV2 with non-linearity - Relu() in first layer and second layer"
      ],
      "metadata": {
        "id": "lzP583oEP5LE"
      }
    },
    {
      "cell_type": "code",
      "source": [
        "class FashionMNISTCNNV2(nn.Module):\n",
        "  def __init__(self, input_dimension: int, hidden_units: int, output_dimension: int):\n",
        "    super().__init__()\n",
        "    self.layers_stack = nn.Sequential(\n",
        "        nn.Flatten(),\n",
        "        nn.Linear(in_features=input_dimension, out_features=hidden_units),\n",
        "        nn.ReLU(),\n",
        "        nn.Linear(in_features=hidden_units, out_features=output_dimension),\n",
        "        nn.ReLU()\n",
        "    )\n",
        "\n",
        "  def forward(self, x):\n",
        "    return self.layers_stack(x)\n",
        "\n",
        "modelV2 = FashionMNISTCNNV2(input_dimension=784, hidden_units=20, output_dimension=len(train_data.classes))\n",
        "modelV2"
      ],
      "metadata": {
        "colab": {
          "base_uri": "https://localhost:8080/"
        },
        "id": "-qKmLDRvP9BM",
        "outputId": "b76b58d7-e4c1-497e-bb93-8e7f4d783f88"
      },
      "execution_count": 24,
      "outputs": [
        {
          "output_type": "execute_result",
          "data": {
            "text/plain": [
              "FashionMNISTCNNV2(\n",
              "  (layers_stack): Sequential(\n",
              "    (0): Flatten(start_dim=1, end_dim=-1)\n",
              "    (1): Linear(in_features=784, out_features=20, bias=True)\n",
              "    (2): ReLU()\n",
              "    (3): Linear(in_features=20, out_features=10, bias=True)\n",
              "    (4): ReLU()\n",
              "  )\n",
              ")"
            ]
          },
          "metadata": {},
          "execution_count": 24
        }
      ]
    },
    {
      "cell_type": "markdown",
      "source": [
        "## Testing"
      ],
      "metadata": {
        "id": "XqYW1uZaQvWS"
      }
    },
    {
      "cell_type": "code",
      "source": [
        "torch.manual_seed(42)\n",
        "\n",
        "num_classes = len(train_data.classes)\n",
        "epochs = 5\n",
        "\n",
        "for epoch in tqdm(range(epochs)):\n",
        "    print(f\"Epoch {epoch+1}\")\n",
        "    print(\"-\" * 10)\n",
        "\n",
        "    # Call train function\n",
        "    train_step(\n",
        "        model=modelV2,\n",
        "        train_dataloader=train_dataloader,\n",
        "        loss_fn=loss_fn,\n",
        "        optimizer=optimizer,\n",
        "        num_classes=num_classes,\n",
        "        type_of_classification='multiclass'\n",
        "    )\n",
        "\n",
        "    # Call test function\n",
        "    test_step(\n",
        "        model=modelV2,\n",
        "        test_dataloader=test_dataloader,\n",
        "        loss_fn=loss_fn,\n",
        "        num_classes=num_classes,\n",
        "        type_of_classification='multiclass'\n",
        "    )"
      ],
      "metadata": {
        "colab": {
          "base_uri": "https://localhost:8080/",
          "height": 396,
          "referenced_widgets": [
            "02afa05044754ddfb4f22b4296021d07",
            "86738be9621543a38f8cc848f8aa9447",
            "345296acc3ec4c1996b6bc21cf38b9ab",
            "9095e328109942fab08d497c6281ff6f",
            "e080ffcb0fec4912b24f005af1723f22",
            "9ff6228cdf1c45b2ae88172cbbb1766e",
            "db402391d1024985b35e809885c2f372",
            "ff313ae4167c41d9a283edda7fc75bed",
            "e7fd337d6e41402e9e2c099b955efe5e",
            "54998a91aff34b73b75c7de2d31b3a22",
            "3e400a71b4ca42489acc00c92ec55da8"
          ]
        },
        "id": "XjfmwvUHQumm",
        "outputId": "1a6b0cb5-de42-4b83-dd1e-8fa552ca9b32"
      },
      "execution_count": 25,
      "outputs": [
        {
          "output_type": "display_data",
          "data": {
            "text/plain": [
              "  0%|          | 0/5 [00:00<?, ?it/s]"
            ],
            "application/vnd.jupyter.widget-view+json": {
              "version_major": 2,
              "version_minor": 0,
              "model_id": "02afa05044754ddfb4f22b4296021d07"
            }
          },
          "metadata": {}
        },
        {
          "output_type": "stream",
          "name": "stdout",
          "text": [
            "Epoch 1\n",
            "----------\n",
            "Train Loss : 2.31371 | Train Accuracy : 9.35%\n",
            "Test Loss: 2.31378 | Test Accuracy : 9.29%\n",
            "Epoch 2\n",
            "----------\n",
            "Train Loss : 2.31371 | Train Accuracy : 9.35%\n",
            "Test Loss: 2.31378 | Test Accuracy : 9.29%\n",
            "Epoch 3\n",
            "----------\n",
            "Train Loss : 2.31371 | Train Accuracy : 9.35%\n",
            "Test Loss: 2.31378 | Test Accuracy : 9.29%\n",
            "Epoch 4\n",
            "----------\n",
            "Train Loss : 2.31371 | Train Accuracy : 9.35%\n",
            "Test Loss: 2.31378 | Test Accuracy : 9.29%\n",
            "Epoch 5\n",
            "----------\n",
            "Train Loss : 2.31371 | Train Accuracy : 9.35%\n",
            "Test Loss: 2.31378 | Test Accuracy : 9.29%\n"
          ]
        }
      ]
    },
    {
      "cell_type": "markdown",
      "source": [],
      "metadata": {
        "id": "rr1pOmJhQY1N"
      }
    },
    {
      "cell_type": "markdown",
      "source": [
        "# Adding CNN architecture Emulating tinyVGG"
      ],
      "metadata": {
        "id": "ok8rAIDGSa3x"
      }
    },
    {
      "cell_type": "markdown",
      "source": [
        "class FashionMNISTTinyVGG():\n",
        "  def __init__():\n",
        "    super()."
      ],
      "metadata": {
        "id": "gLVRuNLtSf5E"
      }
    },
    {
      "cell_type": "code",
      "source": [
        "import torch\n",
        "import torch.nn as nn\n",
        "\n",
        "class FashionMNISTTinyVGG(nn.Module):\n",
        "    def __init__(self, input_color_channels: int, filters: int, output_shape: int):\n",
        "        super().__init__()\n",
        "\n",
        "        # First Convolution Block\n",
        "        self.conv_block_1 = nn.Sequential(\n",
        "            nn.Conv2d(in_channels=input_color_channels, out_channels=filters, kernel_size=3, stride=1, padding=0),\n",
        "            nn.ReLU(),\n",
        "            nn.Conv2d(in_channels=filters, out_channels=filters, kernel_size=3, stride=1, padding=0),\n",
        "            nn.ReLU(),\n",
        "            nn.MaxPool2d(kernel_size=2, stride=2, padding=0)\n",
        "        )\n",
        "\n",
        "        # Second Convolution Block\n",
        "        self.conv_block_2 = nn.Sequential(\n",
        "            nn.Conv2d(in_channels=filters, out_channels=filters, kernel_size=3, stride=1, padding=1),\n",
        "            nn.ReLU(),\n",
        "            nn.Conv2d(in_channels=filters, out_channels=filters, kernel_size=3, stride=1, padding=1),\n",
        "            nn.ReLU(),\n",
        "            nn.MaxPool2d(kernel_size=2, stride=2, padding=0)\n",
        "        )\n",
        "\n",
        "        # Classifier Block\n",
        "        self.classifier_block = nn.Sequential(\n",
        "            nn.Flatten(),\n",
        "            nn.Linear(in_features=filters * 6 * 6, out_features=output_shape)\n",
        "        )\n",
        "\n",
        "    def forward(self, x: torch.Tensor) -> torch.Tensor:\n",
        "        #print(f\"Original shape: {x.shape}\")\n",
        "        x = self.conv_block_1(x)\n",
        "        #print(f\"First Convolution Block: {x.shape}\")\n",
        "        x = self.conv_block_2(x)\n",
        "        #print(f\"Second Convolution Block: {x.shape}\")\n",
        "        return self.classifier_block(x)\n",
        "\n",
        "# Instance of model\n",
        "num_classes = 10\n",
        "model_V3 = FashionMNISTTinyVGG(input_color_channels=1, filters=10, output_shape=num_classes)\n",
        "\n",
        "# Simulation\n",
        "img_simulation = torch.randn(size=(1, 1, 28, 28))\n",
        "\n",
        "# Run the model\n",
        "output = model_V3(img_simulation)\n",
        "print(f\"Output shape: {output.shape}\")\n"
      ],
      "metadata": {
        "colab": {
          "base_uri": "https://localhost:8080/"
        },
        "id": "FCg8TuomaRlk",
        "outputId": "a4809522-19c9-41e2-c78a-ee5cae685c41"
      },
      "execution_count": 87,
      "outputs": [
        {
          "output_type": "stream",
          "name": "stdout",
          "text": [
            "Output shape: torch.Size([1, 10])\n"
          ]
        }
      ]
    },
    {
      "cell_type": "markdown",
      "source": [
        "\n",
        "## Training Loop for CNN - TinyVGG"
      ],
      "metadata": {
        "id": "OV7-m6Q6jsmQ"
      }
    },
    {
      "cell_type": "code",
      "source": [
        "torch.manual_seed(43)\n",
        "\n",
        "num_classes = len(train_data.classes)\n",
        "epochs = 5\n",
        "loss_fn = nn.CrossEntropyLoss()\n",
        "optimizer = torch.optim.SGD(params=model_V3.parameters(), lr=0.1)\n",
        "for epoch in tqdm(range(epochs)):\n",
        "    print(f\"Epoch {epoch+1}\")\n",
        "    print(\"-\" * 15)\n",
        "\n",
        "    # Call train function\n",
        "    train_step(\n",
        "        model=model_V3,\n",
        "        train_dataloader=train_dataloader,\n",
        "        loss_fn=loss_fn,\n",
        "        optimizer=optimizer,\n",
        "        num_classes=10,\n",
        "        type_of_classification='multiclass'\n",
        "    )\n",
        "\n",
        "    # Call test function\n",
        "    test_step(\n",
        "        model=model_V3,\n",
        "        test_dataloader=test_dataloader,\n",
        "        loss_fn=loss_fn,\n",
        "        num_classes=10,\n",
        "        type_of_classification='multiclass'\n",
        "    )\n",
        "\n"
      ],
      "metadata": {
        "colab": {
          "base_uri": "https://localhost:8080/",
          "height": 396,
          "referenced_widgets": [
            "197440c0a530458784ba6b90fda2dba5",
            "56f47149b1a5451a90b9232459b6e767",
            "9daca6b3a8e1473fb610099337c2031e",
            "401df54718c44b1f82cc6fd1d7dc1d82",
            "93aefee2d4984dd8a38cfe45dfe0fe2b",
            "3e4e3cd2cc1a44169defbc9566c21b46",
            "b7c94dc80f09494294b7ffc47354cdfc",
            "a665515cdcbe4531aa647096cb5e89c3",
            "7c7f7008c9b24222a678f5a49be29a9a",
            "0aafc54e3a5c4163a80d55d58e795d23",
            "5527cde6051742118859043b4d09118e"
          ]
        },
        "id": "n_gKzwvNy-Jf",
        "outputId": "4fa71e68-74f8-45f2-dd0e-b719e24d2b5d"
      },
      "execution_count": 92,
      "outputs": [
        {
          "output_type": "display_data",
          "data": {
            "text/plain": [
              "  0%|          | 0/5 [00:00<?, ?it/s]"
            ],
            "application/vnd.jupyter.widget-view+json": {
              "version_major": 2,
              "version_minor": 0,
              "model_id": "197440c0a530458784ba6b90fda2dba5"
            }
          },
          "metadata": {}
        },
        {
          "output_type": "stream",
          "name": "stdout",
          "text": [
            "Epoch 1\n",
            "---------------\n",
            "Train Loss : 0.38432 | Train Accuracy : 85.97%\n",
            "Test Loss: 0.39603 | Test Accuracy : 85.88%\n",
            "Epoch 2\n",
            "---------------\n",
            "Train Loss : 0.34466 | Train Accuracy : 87.51%\n",
            "Test Loss: 0.34152 | Test Accuracy : 87.45%\n",
            "Epoch 3\n",
            "---------------\n",
            "Train Loss : 0.32034 | Train Accuracy : 88.37%\n",
            "Test Loss: 0.39225 | Test Accuracy : 86.00%\n",
            "Epoch 4\n",
            "---------------\n",
            "Train Loss : 0.30453 | Train Accuracy : 89.01%\n",
            "Test Loss: 0.32565 | Test Accuracy : 87.85%\n",
            "Epoch 5\n",
            "---------------\n",
            "Train Loss : 0.29201 | Train Accuracy : 89.37%\n",
            "Test Loss: 0.31570 | Test Accuracy : 88.50%\n"
          ]
        }
      ]
    },
    {
      "cell_type": "code",
      "source": [
        "fig, ax = plt.subplots(3, 3, figsize=(7, 7))  # Correct function name is 'plt.subplots'\n",
        "\n",
        "# Loop through and plot random images\n",
        "for i in range(9):\n",
        "    random_number = np.random.randint(low=200, high=20000)\n",
        "\n",
        "    image, label = train_data[random_number]  # Assuming train_data is defined elsewhere\n",
        "\n",
        "    # Compute row and column index for the subplot\n",
        "    row = i // 3\n",
        "    col = i % 3\n",
        "    logit = model_V3(train_data[random_number] )\n",
        "    pred_y = np.argmax(np.sigmoid(logit), dim=1)\n",
        "\n",
        "    ax[row, col].imshow(np.transpose(image, (1, 2, 0)))\n",
        "    ax[row, col].set_title(f\"Actual Label:{label}, Predicted Label: {pred_y}\")\n",
        "    ax[row, col].axis(False)\n",
        "plt.tight_layout()\n",
        "plt.show()"
      ],
      "metadata": {
        "colab": {
          "base_uri": "https://localhost:8080/",
          "height": 373
        },
        "id": "6okJlfIg8I5o",
        "outputId": "2757afa0-86a7-415b-800a-4d434422ae73"
      },
      "execution_count": 94,
      "outputs": [
        {
          "output_type": "error",
          "ename": "TypeError",
          "evalue": "subplot() takes 1 or 3 positional arguments but 2 were given",
          "traceback": [
            "\u001b[0;31m---------------------------------------------------------------------------\u001b[0m",
            "\u001b[0;31mTypeError\u001b[0m                                 Traceback (most recent call last)",
            "\u001b[0;32m<ipython-input-94-ee94ef9a5c8b>\u001b[0m in \u001b[0;36m<cell line: 1>\u001b[0;34m()\u001b[0m\n\u001b[0;32m----> 1\u001b[0;31m \u001b[0mfig\u001b[0m\u001b[0;34m,\u001b[0m \u001b[0max\u001b[0m \u001b[0;34m=\u001b[0m \u001b[0mplt\u001b[0m\u001b[0;34m.\u001b[0m\u001b[0msubplot\u001b[0m\u001b[0;34m(\u001b[0m\u001b[0;36m3\u001b[0m\u001b[0;34m,\u001b[0m\u001b[0;36m3\u001b[0m\u001b[0;34m,\u001b[0m \u001b[0mfigsize\u001b[0m\u001b[0;34m=\u001b[0m\u001b[0;34m(\u001b[0m\u001b[0;36m5\u001b[0m\u001b[0;34m,\u001b[0m\u001b[0;36m5\u001b[0m\u001b[0;34m)\u001b[0m\u001b[0;34m)\u001b[0m\u001b[0;34m\u001b[0m\u001b[0;34m\u001b[0m\u001b[0m\n\u001b[0m\u001b[1;32m      2\u001b[0m \u001b[0;34m\u001b[0m\u001b[0m\n\u001b[1;32m      3\u001b[0m \u001b[0;32mfor\u001b[0m \u001b[0mi\u001b[0m \u001b[0;32min\u001b[0m \u001b[0mrange\u001b[0m\u001b[0;34m(\u001b[0m\u001b[0;36m9\u001b[0m\u001b[0;34m)\u001b[0m\u001b[0;34m:\u001b[0m\u001b[0;34m\u001b[0m\u001b[0;34m\u001b[0m\u001b[0m\n\u001b[1;32m      4\u001b[0m   \u001b[0mrandom_idx\u001b[0m \u001b[0;34m=\u001b[0m \u001b[0mtorch\u001b[0m\u001b[0;34m.\u001b[0m\u001b[0mrandint\u001b[0m\u001b[0;34m(\u001b[0m\u001b[0;36m0\u001b[0m\u001b[0;34m,\u001b[0m \u001b[0mlen\u001b[0m\u001b[0;34m(\u001b[0m\u001b[0mtest_data\u001b[0m\u001b[0;34m)\u001b[0m\u001b[0;34m)\u001b[0m\u001b[0;34m\u001b[0m\u001b[0;34m\u001b[0m\u001b[0m\n\u001b[1;32m      5\u001b[0m \u001b[0;34m\u001b[0m\u001b[0m\n",
            "\u001b[0;32m/usr/local/lib/python3.10/dist-packages/matplotlib/pyplot.py\u001b[0m in \u001b[0;36msubplot\u001b[0;34m(*args, **kwargs)\u001b[0m\n\u001b[1;32m   1321\u001b[0m \u001b[0;34m\u001b[0m\u001b[0m\n\u001b[1;32m   1322\u001b[0m     \u001b[0;31m# First, search for an existing subplot with a matching spec.\u001b[0m\u001b[0;34m\u001b[0m\u001b[0;34m\u001b[0m\u001b[0m\n\u001b[0;32m-> 1323\u001b[0;31m     \u001b[0mkey\u001b[0m \u001b[0;34m=\u001b[0m \u001b[0mSubplotSpec\u001b[0m\u001b[0;34m.\u001b[0m\u001b[0m_from_subplot_args\u001b[0m\u001b[0;34m(\u001b[0m\u001b[0mfig\u001b[0m\u001b[0;34m,\u001b[0m \u001b[0margs\u001b[0m\u001b[0;34m)\u001b[0m\u001b[0;34m\u001b[0m\u001b[0;34m\u001b[0m\u001b[0m\n\u001b[0m\u001b[1;32m   1324\u001b[0m \u001b[0;34m\u001b[0m\u001b[0m\n\u001b[1;32m   1325\u001b[0m     \u001b[0;32mfor\u001b[0m \u001b[0max\u001b[0m \u001b[0;32min\u001b[0m \u001b[0mfig\u001b[0m\u001b[0;34m.\u001b[0m\u001b[0maxes\u001b[0m\u001b[0;34m:\u001b[0m\u001b[0;34m\u001b[0m\u001b[0;34m\u001b[0m\u001b[0m\n",
            "\u001b[0;32m/usr/local/lib/python3.10/dist-packages/matplotlib/gridspec.py\u001b[0m in \u001b[0;36m_from_subplot_args\u001b[0;34m(figure, args)\u001b[0m\n\u001b[1;32m    583\u001b[0m             \u001b[0mrows\u001b[0m\u001b[0;34m,\u001b[0m \u001b[0mcols\u001b[0m\u001b[0;34m,\u001b[0m \u001b[0mnum\u001b[0m \u001b[0;34m=\u001b[0m \u001b[0margs\u001b[0m\u001b[0;34m\u001b[0m\u001b[0;34m\u001b[0m\u001b[0m\n\u001b[1;32m    584\u001b[0m         \u001b[0;32melse\u001b[0m\u001b[0;34m:\u001b[0m\u001b[0;34m\u001b[0m\u001b[0;34m\u001b[0m\u001b[0m\n\u001b[0;32m--> 585\u001b[0;31m             \u001b[0;32mraise\u001b[0m \u001b[0m_api\u001b[0m\u001b[0;34m.\u001b[0m\u001b[0mnargs_error\u001b[0m\u001b[0;34m(\u001b[0m\u001b[0;34m\"subplot\"\u001b[0m\u001b[0;34m,\u001b[0m \u001b[0mtakes\u001b[0m\u001b[0;34m=\u001b[0m\u001b[0;34m\"1 or 3\"\u001b[0m\u001b[0;34m,\u001b[0m \u001b[0mgiven\u001b[0m\u001b[0;34m=\u001b[0m\u001b[0mlen\u001b[0m\u001b[0;34m(\u001b[0m\u001b[0margs\u001b[0m\u001b[0;34m)\u001b[0m\u001b[0;34m)\u001b[0m\u001b[0;34m\u001b[0m\u001b[0;34m\u001b[0m\u001b[0m\n\u001b[0m\u001b[1;32m    586\u001b[0m \u001b[0;34m\u001b[0m\u001b[0m\n\u001b[1;32m    587\u001b[0m         \u001b[0mgs\u001b[0m \u001b[0;34m=\u001b[0m \u001b[0mGridSpec\u001b[0m\u001b[0;34m.\u001b[0m\u001b[0m_check_gridspec_exists\u001b[0m\u001b[0;34m(\u001b[0m\u001b[0mfigure\u001b[0m\u001b[0;34m,\u001b[0m \u001b[0mrows\u001b[0m\u001b[0;34m,\u001b[0m \u001b[0mcols\u001b[0m\u001b[0;34m)\u001b[0m\u001b[0;34m\u001b[0m\u001b[0;34m\u001b[0m\u001b[0m\n",
            "\u001b[0;31mTypeError\u001b[0m: subplot() takes 1 or 3 positional arguments but 2 were given"
          ]
        },
        {
          "output_type": "display_data",
          "data": {
            "text/plain": [
              "<Figure size 640x480 with 0 Axes>"
            ]
          },
          "metadata": {}
        }
      ]
    },
    {
      "cell_type": "code",
      "source": [
        "!ls"
      ],
      "metadata": {
        "colab": {
          "base_uri": "https://localhost:8080/"
        },
        "id": "AyKAMXLpESgH",
        "outputId": "9be27e48-6ac2-4600-9122-3649ba03167f"
      },
      "execution_count": 97,
      "outputs": [
        {
          "output_type": "stream",
          "name": "stdout",
          "text": [
            "pytorch-mini-projects  sample_data\n"
          ]
        }
      ]
    },
    {
      "cell_type": "code",
      "source": [
        "%cd pytorch-mini-projects"
      ],
      "metadata": {
        "colab": {
          "base_uri": "https://localhost:8080/"
        },
        "id": "tnslb0iPEgT3",
        "outputId": "7fe130a6-df36-40da-cc15-fdf4a20e6d4c"
      },
      "execution_count": 104,
      "outputs": [
        {
          "output_type": "stream",
          "name": "stdout",
          "text": [
            "/content/pytorch-mini-projects\n"
          ]
        }
      ]
    },
    {
      "cell_type": "code",
      "source": [
        "%cd CNN/fashionmnist"
      ],
      "metadata": {
        "colab": {
          "base_uri": "https://localhost:8080/"
        },
        "id": "MiSJk4PPEoFe",
        "outputId": "8bb9c347-f9b9-4ff3-9c82-ccaf41ebf817"
      },
      "execution_count": 105,
      "outputs": [
        {
          "output_type": "stream",
          "name": "stdout",
          "text": [
            "/content/pytorch-mini-projects/CNN/fashionmnist\n"
          ]
        }
      ]
    },
    {
      "cell_type": "code",
      "source": [
        "!git add .\n",
        "!git commit -m 'Created 3 model for FashionMNIST classification. First model used on linear layers. Second Model using relu acitivation in a FNN style. Third model created a customer TinyVGG module and scored 89% on test set'\n",
        "!git push"
      ],
      "metadata": {
        "colab": {
          "base_uri": "https://localhost:8080/"
        },
        "id": "_xJurJ-kEyUR",
        "outputId": "1c940d60-e79d-4305-fc4c-3df683d52e8d"
      },
      "execution_count": 106,
      "outputs": [
        {
          "output_type": "stream",
          "name": "stdout",
          "text": [
            "[main e459051] Created 3 model for FashionMNIST classification. First model used on linear layers. Second Model using relu acitivation in a FNN style. Third model created a customer TinyVGG module and scored 89% on test set\n",
            " 8 files changed, 0 insertions(+), 0 deletions(-)\n",
            " create mode 100644 CNN/fashionmnist/data/FashionMNIST/raw/t10k-images-idx3-ubyte\n",
            " create mode 100644 CNN/fashionmnist/data/FashionMNIST/raw/t10k-images-idx3-ubyte.gz\n",
            " create mode 100644 CNN/fashionmnist/data/FashionMNIST/raw/t10k-labels-idx1-ubyte\n",
            " create mode 100644 CNN/fashionmnist/data/FashionMNIST/raw/t10k-labels-idx1-ubyte.gz\n",
            " create mode 100644 CNN/fashionmnist/data/FashionMNIST/raw/train-images-idx3-ubyte\n",
            " create mode 100644 CNN/fashionmnist/data/FashionMNIST/raw/train-images-idx3-ubyte.gz\n",
            " create mode 100644 CNN/fashionmnist/data/FashionMNIST/raw/train-labels-idx1-ubyte\n",
            " create mode 100644 CNN/fashionmnist/data/FashionMNIST/raw/train-labels-idx1-ubyte.gz\n",
            "Enumerating objects: 16, done.\n",
            "Counting objects: 100% (16/16), done.\n",
            "Delta compression using up to 2 threads\n",
            "Compressing objects: 100% (11/11), done.\n",
            "Writing objects: 100% (15/15), 58.90 MiB | 8.13 MiB/s, done.\n",
            "Total 15 (delta 1), reused 0 (delta 0), pack-reused 0\n",
            "remote: Resolving deltas: 100% (1/1), completed with 1 local object.\u001b[K\n",
            "To https://github.com/Shahid0120/pytorch-mini-projects\n",
            "   4e22d37..e459051  main -> main\n"
          ]
        }
      ]
    }
  ]
}