{
  "nbformat": 4,
  "nbformat_minor": 0,
  "metadata": {
    "colab": {
      "provenance": [],
      "gpuType": "T4",
      "authorship_tag": "ABX9TyNNmDnFZeCcIjooNmqPwCd2",
      "include_colab_link": true
    },
    "kernelspec": {
      "name": "python3",
      "display_name": "Python 3"
    },
    "language_info": {
      "name": "python"
    },
    "accelerator": "GPU"
  },
  "cells": [
    {
      "cell_type": "markdown",
      "metadata": {
        "id": "view-in-github",
        "colab_type": "text"
      },
      "source": [
        "<a href=\"https://colab.research.google.com/github/Shahid0120/fashion-mnist-nn-classification/blob/main/fashioin_mnist_classification.ipynb\" target=\"_parent\"><img src=\"https://colab.research.google.com/assets/colab-badge.svg\" alt=\"Open In Colab\"/></a>"
      ]
    },
    {
      "cell_type": "markdown",
      "source": [
        "# Fashion MNIST Classification\n",
        "\n",
        "In this notebook I will create a Neural Network using Pytorch for classfy images from fashion MNIST database into T-shirt/top , Trousers, Pullover, Dress, Coat, Snadal, Shirt, Sneaker, Bag or Ankle boot"
      ],
      "metadata": {
        "id": "O9qvpB1Hq_4n"
      }
    },
    {
      "cell_type": "code",
      "source": [
        "import torch\n",
        "from torch import nn\n",
        "from torch.utils.data import DataLoader\n",
        "from torchvision import datasets\n",
        "from torchvision.transforms import ToTensor\n",
        "import matplotlib.pyplot as plt"
      ],
      "metadata": {
        "id": "gUhxCmZrrVFN"
      },
      "execution_count": 7,
      "outputs": []
    },
    {
      "cell_type": "code",
      "source": [
        "# Import training data\n",
        "training_data = datasets.FashionMNIST(\n",
        "    root=\"data\",\n",
        "    train=True,\n",
        "    download=True,\n",
        "    transform=ToTensor()\n",
        ")\n",
        "\n",
        "\n",
        "# Import test data\n",
        "test_data = datasets.FashionMNIST(\n",
        "    root=\"data\",\n",
        "    train=False,\n",
        "    download=True,\n",
        "    transform=ToTensor()\n",
        ")\n",
        "\n",
        "\n"
      ],
      "metadata": {
        "colab": {
          "base_uri": "https://localhost:8080/"
        },
        "id": "0qexbr5bvkKw",
        "outputId": "14e3b61d-f2d9-4022-a063-03e1a7823ce4"
      },
      "execution_count": 2,
      "outputs": [
        {
          "output_type": "stream",
          "name": "stdout",
          "text": [
            "Downloading http://fashion-mnist.s3-website.eu-central-1.amazonaws.com/train-images-idx3-ubyte.gz\n",
            "Downloading http://fashion-mnist.s3-website.eu-central-1.amazonaws.com/train-images-idx3-ubyte.gz to data/FashionMNIST/raw/train-images-idx3-ubyte.gz\n"
          ]
        },
        {
          "output_type": "stream",
          "name": "stderr",
          "text": [
            "100%|██████████| 26421880/26421880 [00:03<00:00, 8549867.35it/s] \n"
          ]
        },
        {
          "output_type": "stream",
          "name": "stdout",
          "text": [
            "Extracting data/FashionMNIST/raw/train-images-idx3-ubyte.gz to data/FashionMNIST/raw\n",
            "\n",
            "Downloading http://fashion-mnist.s3-website.eu-central-1.amazonaws.com/train-labels-idx1-ubyte.gz\n",
            "Downloading http://fashion-mnist.s3-website.eu-central-1.amazonaws.com/train-labels-idx1-ubyte.gz to data/FashionMNIST/raw/train-labels-idx1-ubyte.gz\n"
          ]
        },
        {
          "output_type": "stream",
          "name": "stderr",
          "text": [
            "100%|██████████| 29515/29515 [00:00<00:00, 135407.28it/s]\n"
          ]
        },
        {
          "output_type": "stream",
          "name": "stdout",
          "text": [
            "Extracting data/FashionMNIST/raw/train-labels-idx1-ubyte.gz to data/FashionMNIST/raw\n",
            "\n",
            "Downloading http://fashion-mnist.s3-website.eu-central-1.amazonaws.com/t10k-images-idx3-ubyte.gz\n",
            "Downloading http://fashion-mnist.s3-website.eu-central-1.amazonaws.com/t10k-images-idx3-ubyte.gz to data/FashionMNIST/raw/t10k-images-idx3-ubyte.gz\n"
          ]
        },
        {
          "output_type": "stream",
          "name": "stderr",
          "text": [
            "100%|██████████| 4422102/4422102 [00:01<00:00, 2461341.42it/s]\n"
          ]
        },
        {
          "output_type": "stream",
          "name": "stdout",
          "text": [
            "Extracting data/FashionMNIST/raw/t10k-images-idx3-ubyte.gz to data/FashionMNIST/raw\n",
            "\n",
            "Downloading http://fashion-mnist.s3-website.eu-central-1.amazonaws.com/t10k-labels-idx1-ubyte.gz\n",
            "Downloading http://fashion-mnist.s3-website.eu-central-1.amazonaws.com/t10k-labels-idx1-ubyte.gz to data/FashionMNIST/raw/t10k-labels-idx1-ubyte.gz\n"
          ]
        },
        {
          "output_type": "stream",
          "name": "stderr",
          "text": [
            "100%|██████████| 5148/5148 [00:00<00:00, 15692061.77it/s]"
          ]
        },
        {
          "output_type": "stream",
          "name": "stdout",
          "text": [
            "Extracting data/FashionMNIST/raw/t10k-labels-idx1-ubyte.gz to data/FashionMNIST/raw\n",
            "\n"
          ]
        },
        {
          "output_type": "stream",
          "name": "stderr",
          "text": [
            "\n"
          ]
        }
      ]
    },
    {
      "cell_type": "code",
      "source": [
        "# Create data loader\n",
        "batch_size = 64\n",
        "\n",
        "train_dataloader = DataLoader(training_data, batch_size=batch_size)\n",
        "test_dataloader = DataLoader(test_data, batch_size=batch_size)\n",
        "\n",
        "for X, y in test_dataloader:\n",
        "  print(f\"Shape of X [Number of training exmaples,Channels, Height, Width], {X.shape}\")\n",
        "  print(f\"Shape of Y : {y.shape}\")\n",
        "  break\n",
        "\n",
        "for X_train, y_train in train_dataloader:\n",
        "  print(f\"Shape of X [Number of training exmaples,Channels, Height, Width], {X_train.shape}\")\n",
        "  print(f\"Shape of Y : {y_train.shape}\")\n",
        "  break"
      ],
      "metadata": {
        "colab": {
          "base_uri": "https://localhost:8080/"
        },
        "id": "sX9hbpziwq40",
        "outputId": "58e64372-0597-4122-fbcc-b5196eb6662a"
      },
      "execution_count": 6,
      "outputs": [
        {
          "output_type": "stream",
          "name": "stdout",
          "text": [
            "Shape of X [Number of training exmaples,Channels, Height, Width], torch.Size([64, 1, 28, 28])\n",
            "Shape of Y : torch.Size([64])\n",
            "Shape of X [Number of training exmaples,Channels, Height, Width], torch.Size([64, 1, 28, 28])\n",
            "Shape of Y : torch.Size([64])\n"
          ]
        }
      ]
    },
    {
      "cell_type": "code",
      "source": [
        "# Visualising Dataset\n",
        "label_map = {\n",
        "    0: \"T-shirt\",\n",
        "    1: \"Trousers\",\n",
        "    2: \"Pullover\",\n",
        "    3: \"Dress\",\n",
        "    4: \"Coat\",\n",
        "    5: \"Sandal\",\n",
        "    6: \"Shirt\",\n",
        "    7: \"Sneaker\",\n",
        "    8:\"Bag\",\n",
        "    9:\"Ankle Boot\"\n",
        "}\n",
        "\n",
        "figure = plt.figure(figsize=(8,8))\n",
        "rows, cols = 3, 3\n",
        "for i in range(1, cols * rows + 1):\n",
        "  random_index = torch.randint(high=len(training_data), size=(1,)).item()\n",
        "  img, label = training_data[random_index]\n",
        "\n",
        "  figure.add_subplot(rows, cols, i)\n",
        "  plt.title(label_map[label])\n",
        "  plt.axis(\"off\")\n",
        "  plt.imshow(img.squeeze(), cmap=\"gray\")\n",
        "\n",
        "plt.show()"
      ],
      "metadata": {
        "colab": {
          "base_uri": "https://localhost:8080/",
          "height": 675
        },
        "id": "vci2JT1zylsM",
        "outputId": "593fad56-acaa-4018-d5d6-3d6a19818681"
      },
      "execution_count": 18,
      "outputs": [
        {
          "output_type": "display_data",
          "data": {
            "text/plain": [
              "<Figure size 800x800 with 9 Axes>"
            ],
            "image/png": "[encoded data removed]"
          },
          "metadata": {}
        }
      ]
    },
    {
      "cell_type": "code",
      "source": [
        "# Creating NN\n",
        "device = (\n",
        "    \"cude\"\n",
        "    if torch.cuda.is_available()\n",
        "    else \"mps\"\n",
        "    if torch.backends.mps.is_available()\n",
        "    else \"cpu\"\n",
        ")\n",
        "\n",
        "print(f\"Using {device} device\")\n",
        "\n",
        "# Define Model\n",
        "class NeuralNetwork(nn.Module):\n",
        "  def __init__(self):\n",
        "    super().__init__()\n",
        "    self.flatten = nn.Flatten()\n",
        "    self.linear_relu_stack = nn.Sequential(\n",
        "        nn.Linear(28*28, 512),\n",
        "        nn.ReLU(),\n",
        "        nn.Linear(512, 512),\n",
        "        nn.Linear(512, 10)\n",
        "    )\n",
        "  def forward(self, x):\n",
        "    x = self.flatten(x)\n",
        "    logits = self.linear_relu_stack(x)\n",
        "    return logits\n",
        "\n",
        "model = NeuralNetwork().to(device)\n",
        "print(model)"
      ],
      "metadata": {
        "colab": {
          "base_uri": "https://localhost:8080/"
        },
        "id": "JvLgZwRA1Z8h",
        "outputId": "a94e9b00-172d-408b-f0bf-c986ccc633e0"
      },
      "execution_count": 32,
      "outputs": [
        {
          "output_type": "stream",
          "name": "stdout",
          "text": [
            "Using cpu device\n",
            "NeuralNetwork(\n",
            "  (flatten): Flatten(start_dim=1, end_dim=-1)\n",
            "  (linear_relu_stack): Sequential(\n",
            "    (0): Linear(in_features=784, out_features=512, bias=True)\n",
            "    (1): ReLU()\n",
            "    (2): Linear(in_features=512, out_features=512, bias=True)\n",
            "    (3): Linear(in_features=512, out_features=10, bias=True)\n",
            "  )\n",
            ")\n"
          ]
        }
      ]
    },
    {
      "cell_type": "code",
      "source": [
        "# loss function and optimiser\n",
        "loss_fn = nn.CrossEntropyLoss()\n",
        "optimiser = torch.optim.SGD(model.parameters(), lr=1e-3)"
      ],
      "metadata": {
        "id": "KMVcMDpu4kLI"
      },
      "execution_count": 24,
      "outputs": []
    },
    {
      "cell_type": "code",
      "source": [
        "# traing model\n",
        "def train(dataloader, model, loss_fn, optimiser):\n",
        "  size=len(dataloader.dataset)\n",
        "  model.train()\n",
        "\n",
        "  for batch, (X,y) in enumerate(dataloader):\n",
        "    X, y = X.to(device), y.to(device)\n",
        "\n",
        "    # comptuer prediction error\n",
        "    pred = model(X)\n",
        "    loss = loss_fn(pred, y)\n",
        "\n",
        "    # back prop\n",
        "    loss.backward()\n",
        "    optimiser.step()\n",
        "    optimiser.zero_grad()\n",
        "\n",
        "    if batch % 100 == 0:\n",
        "      loss, current = loss.item(), (batch + 1) * len(X)\n",
        "      print(f\"loss: {loss:>7f} [{current:>5f} / {size:>5d}]\")"
      ],
      "metadata": {
        "id": "m50ebEkF473n"
      },
      "execution_count": 29,
      "outputs": []
    },
    {
      "cell_type": "code",
      "source": [
        "# checking model performance\n",
        "def test(dataloader, model, loss_fn):\n",
        "  size = len(dataloader.dataset)\n",
        "  num_batches = len(dataloader)\n",
        "  model.eval()\n",
        "  test_loss, correct = 0, 0\n",
        "  with torch.no_grad():\n",
        "    for X, y in dataloader:\n",
        "      X, y = X.to(device), y.to(device)\n",
        "      pred = model(X)\n",
        "      test_loss += loss_fn(pred, y).item()\n",
        "      correct += (pred.argmax(1) == y).type(torch.float).sum().item()\n",
        "  test_loss /= num_batches\n",
        "  correct /= size\n",
        "  print(f\"Test Error: \\n Accuracy: {(100*correct) : >0.1f}% Avg loss: {test_loss:>0.8} \\n\")\n"
      ],
      "metadata": {
        "id": "sA7UfoMf6HYT"
      },
      "execution_count": 30,
      "outputs": []
    },
    {
      "cell_type": "code",
      "source": [
        "epochs = 5\n",
        "for t in range(epochs):\n",
        "  print(f\"Epoch : {t+1}\")\n",
        "  train(train_dataloader, model, loss_fn, optimiser)\n",
        "  test(test_dataloader, model, loss_fn)\n",
        "print(\"Done!\")"
      ],
      "metadata": {
        "colab": {
          "base_uri": "https://localhost:8080/"
        },
        "id": "qA7WPz_R7axX",
        "outputId": "bb34f9e7-1dec-4076-f42f-2a3dc868de4e"
      },
      "execution_count": 33,
      "outputs": [
        {
          "output_type": "stream",
          "name": "stdout",
          "text": [
            "Epoch : 1\n",
            "loss: 2.314711 [64.000000 / 60000]\n",
            "loss: 2.306930 [6464.000000 / 60000]\n",
            "loss: 2.310978 [12864.000000 / 60000]\n",
            "loss: 2.315950 [19264.000000 / 60000]\n",
            "loss: 2.302757 [25664.000000 / 60000]\n",
            "loss: 2.313203 [32064.000000 / 60000]\n",
            "loss: 2.314228 [38464.000000 / 60000]\n",
            "loss: 2.310496 [44864.000000 / 60000]\n",
            "loss: 2.319106 [51264.000000 / 60000]\n",
            "loss: 2.320007 [57664.000000 / 60000]\n",
            "Test Error: \n",
            " Accuracy: 12.8% Avg loss: 2.3114554 \n",
            "\n",
            "Epoch : 2\n",
            "loss: 2.314711 [64.000000 / 60000]\n",
            "loss: 2.306930 [6464.000000 / 60000]\n",
            "loss: 2.310978 [12864.000000 / 60000]\n",
            "loss: 2.315950 [19264.000000 / 60000]\n",
            "loss: 2.302757 [25664.000000 / 60000]\n",
            "loss: 2.313203 [32064.000000 / 60000]\n",
            "loss: 2.314228 [38464.000000 / 60000]\n",
            "loss: 2.310496 [44864.000000 / 60000]\n",
            "loss: 2.319106 [51264.000000 / 60000]\n",
            "loss: 2.320007 [57664.000000 / 60000]\n",
            "Test Error: \n",
            " Accuracy: 12.8% Avg loss: 2.3114554 \n",
            "\n",
            "Epoch : 3\n",
            "loss: 2.314711 [64.000000 / 60000]\n",
            "loss: 2.306930 [6464.000000 / 60000]\n",
            "loss: 2.310978 [12864.000000 / 60000]\n",
            "loss: 2.315950 [19264.000000 / 60000]\n",
            "loss: 2.302757 [25664.000000 / 60000]\n",
            "loss: 2.313203 [32064.000000 / 60000]\n",
            "loss: 2.314228 [38464.000000 / 60000]\n",
            "loss: 2.310496 [44864.000000 / 60000]\n",
            "loss: 2.319106 [51264.000000 / 60000]\n",
            "loss: 2.320007 [57664.000000 / 60000]\n",
            "Test Error: \n",
            " Accuracy: 12.8% Avg loss: 2.3114554 \n",
            "\n",
            "Epoch : 4\n",
            "loss: 2.314711 [64.000000 / 60000]\n",
            "loss: 2.306930 [6464.000000 / 60000]\n",
            "loss: 2.310978 [12864.000000 / 60000]\n",
            "loss: 2.315950 [19264.000000 / 60000]\n",
            "loss: 2.302757 [25664.000000 / 60000]\n",
            "loss: 2.313203 [32064.000000 / 60000]\n",
            "loss: 2.314228 [38464.000000 / 60000]\n",
            "loss: 2.310496 [44864.000000 / 60000]\n",
            "loss: 2.319106 [51264.000000 / 60000]\n",
            "loss: 2.320007 [57664.000000 / 60000]\n",
            "Test Error: \n",
            " Accuracy: 12.8% Avg loss: 2.3114554 \n",
            "\n",
            "Epoch : 5\n",
            "loss: 2.314711 [64.000000 / 60000]\n",
            "loss: 2.306930 [6464.000000 / 60000]\n",
            "loss: 2.310978 [12864.000000 / 60000]\n",
            "loss: 2.315950 [19264.000000 / 60000]\n",
            "loss: 2.302757 [25664.000000 / 60000]\n",
            "loss: 2.313203 [32064.000000 / 60000]\n",
            "loss: 2.314228 [38464.000000 / 60000]\n",
            "loss: 2.310496 [44864.000000 / 60000]\n",
            "loss: 2.319106 [51264.000000 / 60000]\n",
            "loss: 2.320007 [57664.000000 / 60000]\n",
            "Test Error: \n",
            " Accuracy: 12.8% Avg loss: 2.3114554 \n",
            "\n",
            "Done!\n"
          ]
        }
      ]
    }
  ]
}