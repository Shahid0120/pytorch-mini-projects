{
  "nbformat": 4,
  "nbformat_minor": 0,
  "metadata": {
    "colab": {
      "provenance": [],
      "authorship_tag": "ABX9TyMt8q7diaSMUpVh6FyUPLDY",
      "include_colab_link": true
    },
    "kernelspec": {
      "name": "python3",
      "display_name": "Python 3"
    },
    "language_info": {
      "name": "python"
    }
  },
  "cells": [
    {
      "cell_type": "markdown",
      "metadata": {
        "id": "view-in-github",
        "colab_type": "text"
      },
      "source": [
        "<a href=\"https://colab.research.google.com/github/Shahid0120/pytorch-mini-projects/blob/main/linear_regression_pytorch_nnlinear.ipynb\" target=\"_parent\"><img src=\"https://colab.research.google.com/assets/colab-badge.svg\" alt=\"Open In Colab\"/></a>"
      ]
    },
    {
      "cell_type": "markdown",
      "source": [
        "# Linear Regression in Pytorch using nn.Linear"
      ],
      "metadata": {
        "id": "iB8ZvDy7JbuN"
      }
    },
    {
      "cell_type": "code",
      "source": [
        "import torch\n",
        "import numpy as np\n",
        "import matplotlib.pyplot as plt\n",
        "from torch import optim\n",
        "from torch.optim.sgd import SGD\n",
        "from torch.optim.adam import Adam\n",
        "from torch import nn"
      ],
      "metadata": {
        "id": "IWPMHRYlKVFC"
      },
      "execution_count": 31,
      "outputs": []
    },
    {
      "cell_type": "code",
      "source": [
        "# Create Synthetic Data\n",
        "W = 0.7\n",
        "b = 0.3\n",
        "num_of_sample = 200\n",
        "\n",
        "X = torch.arange(num_of_sample).unsqueeze(dim=1)\n",
        "Y = W * X + b\n",
        "\n",
        "plt.figure()\n",
        "plt.scatter(X, Y)\n",
        "plt.show()"
      ],
      "metadata": {
        "colab": {
          "base_uri": "https://localhost:8080/",
          "height": 430
        },
        "id": "S_cjaK4WKoNU",
        "outputId": "ea2cab95-d17b-4956-fed0-281da7e6fa53"
      },
      "execution_count": 13,
      "outputs": [
        {
          "output_type": "display_data",
          "data": {
            "text/plain": [
              "<Figure size 640x480 with 1 Axes>"
            ],
            "image/png": "[encoded data removed]"
          },
          "metadata": {}
        }
      ]
    },
    {
      "cell_type": "code",
      "source": [
        "# Create training set and test set 80/20\n",
        "split = int(len(X) * 0.8)\n",
        "X_train, Y_train = X[:split].float(), Y[:split]\n",
        "X_test, Y_test = X[split:].float(), Y[split:]\n"
      ],
      "metadata": {
        "id": "EylpwIwiLDYy"
      },
      "execution_count": 14,
      "outputs": []
    },
    {
      "cell_type": "code",
      "source": [
        "torch.manual_seed(42)\n",
        "# Linear Regression Class\n",
        "class LinearRegressionModel(nn.Module):\n",
        "    def __init__(self):\n",
        "        super().__init__()\n",
        "        self.linear_layer = nn.Linear(in_features=1,\n",
        "                                      out_features=1)\n",
        "\n",
        "    # Define the forward computation (input data x flows through nn.Linear())\n",
        "    def forward(self, x: torch.Tensor) -> torch.Tensor:\n",
        "        return self.linear_layer(x)\n",
        "\n",
        "# Make instance of class\n",
        "model = LinearRegressionModel()\n",
        "\n",
        "# Loss function\n",
        "loss_fn = nn.L1Loss()\n",
        "\n",
        "# Optimizer intialization\n",
        "LR = 0.0001\n",
        "optimizer = Adam(params=model.parameters(), lr=LR)\n",
        "\n",
        "# Learning Algorithm\n",
        "epochs = 10000\n",
        "\n",
        "training_loss = []\n",
        "test_loss = []\n",
        "\n",
        "for epoch in range(epochs):\n",
        "  # Train Model\n",
        "  model.train()\n",
        "\n",
        "  # Compute Y_hat\n",
        "  Y_hat_train = model(X_train)\n",
        "\n",
        "  # Compute Training Loss\n",
        "  loss_train = loss_fn(Y_train, Y_hat_train)\n",
        "\n",
        "  # Save into training loss arr\n",
        "  training_loss.append(loss_train.item())\n",
        "\n",
        "  # Stop acucmation of gradient\n",
        "  optimizer.zero_grad()\n",
        "\n",
        "  # Backprop\n",
        "  loss_train.backward()\n",
        "\n",
        "  # step\n",
        "  optimizer.step()\n",
        "\n",
        "\n",
        "  # Setup inference mode\n",
        "  model.eval()\n",
        "  with torch.inference_mode():\n",
        "    Y_hat_train = model(X_test)\n",
        "\n",
        "    # Check Training Loss\n",
        "    loss_test = loss_fn(Y_hat_train, Y_test)\n",
        "\n",
        "    # Save into training loss array\n",
        "    test_loss.append(loss_test.item())\n",
        "\n",
        "  # Print of if every 100 epoch the training and test loss\n",
        "  if epoch % 1000 == 0:\n",
        "    print(f\"Epoch : {epoch} |  Training Loss : {loss_train} | Test Loss: {loss_test}\")\n"
      ],
      "metadata": {
        "colab": {
          "base_uri": "https://localhost:8080/"
        },
        "id": "RxfdrtvoLU6E",
        "outputId": "e228934e-147e-4e85-ca5d-c7ba14e2d907"
      },
      "execution_count": 32,
      "outputs": [
        {
          "output_type": "stream",
          "name": "stdout",
          "text": [
            "Epoch : 0 |  Training Loss : 5.660821914672852 | Test Loss: 12.096620559692383\n",
            "Epoch : 1000 |  Training Loss : 0.1858476847410202 | Test Loss: 0.26287728548049927\n",
            "Epoch : 2000 |  Training Loss : 0.158871129155159 | Test Loss: 0.2246892899274826\n",
            "Epoch : 3000 |  Training Loss : 0.1240682601928711 | Test Loss: 0.17556285858154297\n",
            "Epoch : 4000 |  Training Loss : 0.08524365723133087 | Test Loss: 0.1205049529671669\n",
            "Epoch : 5000 |  Training Loss : 0.04469116032123566 | Test Loss: 0.06314315646886826\n",
            "Epoch : 6000 |  Training Loss : 0.003892700420692563 | Test Loss: 0.0061515807174146175\n",
            "Epoch : 7000 |  Training Loss : 0.0007796551799401641 | Test Loss: 0.0006635665777139366\n",
            "Epoch : 8000 |  Training Loss : 0.0007073924061842263 | Test Loss: 0.00044918060302734375\n",
            "Epoch : 9000 |  Training Loss : 0.0006789751350879669 | Test Loss: 0.0004173278866801411\n"
          ]
        }
      ]
    },
    {
      "cell_type": "code",
      "source": [
        "# Plot loss functions\n",
        "plt.figure()\n",
        "plt.plot(np.arange(epochs), training_loss, label='Training Loss')\n",
        "plt.plot(np.arange(epochs), test_loss, label='Test Loss')\n",
        "plt.title('Test and Training Loss vs Epoch')\n",
        "plt.legend()\n",
        "plt.show()"
      ],
      "metadata": {
        "colab": {
          "base_uri": "https://localhost:8080/",
          "height": 452
        },
        "id": "kjMawESPQwFc",
        "outputId": "1428a6eb-cccc-4e96-af86-d8370976ec4a"
      },
      "execution_count": 34,
      "outputs": [
        {
          "output_type": "display_data",
          "data": {
            "text/plain": [
              "<Figure size 640x480 with 1 Axes>"
            ],
            "image/png": "[encoded data removed]"
          },
          "metadata": {}
        }
      ]
    },
    {
      "cell_type": "code",
      "source": [
        "# Check Parameters\n",
        "model.state_dict()"
      ],
      "metadata": {
        "colab": {
          "base_uri": "https://localhost:8080/"
        },
        "id": "i_KDfF2qSFqZ",
        "outputId": "0788de6c-c5f6-4c84-9de2-062da6d31334"
      },
      "execution_count": 35,
      "outputs": [
        {
          "output_type": "execute_result",
          "data": {
            "text/plain": [
              "OrderedDict([('linear_layer.weight', tensor([[0.7000]])),\n",
              "             ('linear_layer.bias', tensor([0.3000]))])"
            ]
          },
          "metadata": {},
          "execution_count": 35
        }
      ]
    },
    {
      "cell_type": "code",
      "source": [
        "# Save Model\n",
        "from pathlib import Path\n",
        "\n",
        "MAIN_DIRECTORY = Path(\"model\")\n",
        "MAIN_DIRECTORY.mkdir(parents=True, exist_ok=False)\n",
        "\n",
        "MODEL_NAME = \"01-logistic-regression-nn-linear.pth\"\n",
        "MODEL_SAVE_PATH = MAIN_DIRECTORY / MODEL_NAME\n",
        "\n",
        "print(f\"Saving model to: {MODEL_SAVE_PATH}\")\n",
        "torch.save(obj=model.state_dict(), f=MODEL_SAVE_PATH)"
      ],
      "metadata": {
        "colab": {
          "base_uri": "https://localhost:8080/"
        },
        "id": "pbO0UDIoSOEH",
        "outputId": "b2eefd61-62f1-4ef0-802e-2caa13192c43"
      },
      "execution_count": 36,
      "outputs": [
        {
          "output_type": "stream",
          "name": "stdout",
          "text": [
            "Saving model to: model/01-logistic-regression-nn-linear.pth\n"
          ]
        }
      ]
    }
  ]
}